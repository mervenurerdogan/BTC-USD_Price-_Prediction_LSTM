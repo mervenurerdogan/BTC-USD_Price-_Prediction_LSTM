{
  "nbformat": 4,
  "nbformat_minor": 0,
  "metadata": {
    "colab": {
      "name": "DollarPricePredict_LSTM2.ipynb",
      "provenance": [],
      "mount_file_id": "1nJ4mgVuexDdLz7Q76pdftNb9_wW2roYy",
      "authorship_tag": "ABX9TyPSiIspK0TgGIdDw7XmdmD/",
      "include_colab_link": true
    },
    "kernelspec": {
      "name": "python3",
      "display_name": "Python 3"
    },
    "language_info": {
      "name": "python"
    }
  },
  "cells": [
    {
      "cell_type": "markdown",
      "metadata": {
        "id": "view-in-github",
        "colab_type": "text"
      },
      "source": [
        "<a href=\"https://colab.research.google.com/github/mervenurerdogan/BTC-USD_Price-_Prediction_LSTM/blob/main/DollarPricePredict_LSTM2.ipynb\" target=\"_parent\"><img src=\"https://colab.research.google.com/assets/colab-badge.svg\" alt=\"Open In Colab\"/></a>"
      ]
    },
    {
      "cell_type": "code",
      "execution_count": 1,
      "metadata": {
        "id": "yPs7k1A_tlW9"
      },
      "outputs": [],
      "source": [
        "import numpy as np\n",
        "import matplotlib.pyplot as plt\n",
        "import pandas as pd\n",
        "from sklearn.preprocessing import MinMaxScaler\n",
        "\n",
        "import matplotlib.pyplot as plt\n"
      ]
    },
    {
      "cell_type": "code",
      "source": [
        "dollar_path='/content/drive/MyDrive/USD_DATA/USD.csv'"
      ],
      "metadata": {
        "id": "q2QOPdM2t0Hi"
      },
      "execution_count": 2,
      "outputs": []
    },
    {
      "cell_type": "code",
      "source": [
        "data=pd.read_csv(dollar_path, date_parser=True)"
      ],
      "metadata": {
        "id": "6jjP6_wuuCEC"
      },
      "execution_count": 3,
      "outputs": []
    },
    {
      "cell_type": "code",
      "source": [
        "data"
      ],
      "metadata": {
        "colab": {
          "base_uri": "https://localhost:8080/",
          "height": 423
        },
        "id": "VlYdBzMLuNDZ",
        "outputId": "e16ccc5f-8281-4efd-efae-9704764b986f"
      },
      "execution_count": 4,
      "outputs": [
        {
          "output_type": "execute_result",
          "data": {
            "text/plain": [
              "            Date       Open       High        Low      Close  Adj Close  \\\n",
              "0     2015-03-06   4.010417   4.029583   3.917083   3.917083   3.793007   \n",
              "1     2015-03-09   3.928750   3.934583   3.909583   3.930417   3.805918   \n",
              "2     2015-03-10   3.882083   3.888333   3.755000   3.781250   3.661476   \n",
              "3     2015-03-11   3.825000   3.893750   3.817500   3.830417   3.709086   \n",
              "4     2015-03-12   3.719167   3.767083   3.635833   3.715000   3.597324   \n",
              "...          ...        ...        ...        ...        ...        ...   \n",
              "1780  2022-03-30  43.750000  44.000000  41.150002  41.529999  41.529999   \n",
              "1781  2022-03-31  41.520000  42.130001  39.799999  39.959999  39.959999   \n",
              "1782  2022-04-01  40.250000  40.299999  37.130001  38.320000  38.320000   \n",
              "1783  2022-04-04  38.520000  39.959999  38.299999  39.849998  39.849998   \n",
              "1784  2022-04-05  39.330002  39.340000  36.130001  36.310001  36.310001   \n",
              "\n",
              "      Volume  \n",
              "0     211200  \n",
              "1      86400  \n",
              "2     276000  \n",
              "3     105600  \n",
              "4     331200  \n",
              "...      ...  \n",
              "1780  186300  \n",
              "1781  215400  \n",
              "1782  295200  \n",
              "1783  181100  \n",
              "1784  329200  \n",
              "\n",
              "[1785 rows x 7 columns]"
            ],
            "text/html": [
              "\n",
              "  <div id=\"df-bc304e78-c469-4767-a243-bb966d17ed99\">\n",
              "    <div class=\"colab-df-container\">\n",
              "      <div>\n",
              "<style scoped>\n",
              "    .dataframe tbody tr th:only-of-type {\n",
              "        vertical-align: middle;\n",
              "    }\n",
              "\n",
              "    .dataframe tbody tr th {\n",
              "        vertical-align: top;\n",
              "    }\n",
              "\n",
              "    .dataframe thead th {\n",
              "        text-align: right;\n",
              "    }\n",
              "</style>\n",
              "<table border=\"1\" class=\"dataframe\">\n",
              "  <thead>\n",
              "    <tr style=\"text-align: right;\">\n",
              "      <th></th>\n",
              "      <th>Date</th>\n",
              "      <th>Open</th>\n",
              "      <th>High</th>\n",
              "      <th>Low</th>\n",
              "      <th>Close</th>\n",
              "      <th>Adj Close</th>\n",
              "      <th>Volume</th>\n",
              "    </tr>\n",
              "  </thead>\n",
              "  <tbody>\n",
              "    <tr>\n",
              "      <th>0</th>\n",
              "      <td>2015-03-06</td>\n",
              "      <td>4.010417</td>\n",
              "      <td>4.029583</td>\n",
              "      <td>3.917083</td>\n",
              "      <td>3.917083</td>\n",
              "      <td>3.793007</td>\n",
              "      <td>211200</td>\n",
              "    </tr>\n",
              "    <tr>\n",
              "      <th>1</th>\n",
              "      <td>2015-03-09</td>\n",
              "      <td>3.928750</td>\n",
              "      <td>3.934583</td>\n",
              "      <td>3.909583</td>\n",
              "      <td>3.930417</td>\n",
              "      <td>3.805918</td>\n",
              "      <td>86400</td>\n",
              "    </tr>\n",
              "    <tr>\n",
              "      <th>2</th>\n",
              "      <td>2015-03-10</td>\n",
              "      <td>3.882083</td>\n",
              "      <td>3.888333</td>\n",
              "      <td>3.755000</td>\n",
              "      <td>3.781250</td>\n",
              "      <td>3.661476</td>\n",
              "      <td>276000</td>\n",
              "    </tr>\n",
              "    <tr>\n",
              "      <th>3</th>\n",
              "      <td>2015-03-11</td>\n",
              "      <td>3.825000</td>\n",
              "      <td>3.893750</td>\n",
              "      <td>3.817500</td>\n",
              "      <td>3.830417</td>\n",
              "      <td>3.709086</td>\n",
              "      <td>105600</td>\n",
              "    </tr>\n",
              "    <tr>\n",
              "      <th>4</th>\n",
              "      <td>2015-03-12</td>\n",
              "      <td>3.719167</td>\n",
              "      <td>3.767083</td>\n",
              "      <td>3.635833</td>\n",
              "      <td>3.715000</td>\n",
              "      <td>3.597324</td>\n",
              "      <td>331200</td>\n",
              "    </tr>\n",
              "    <tr>\n",
              "      <th>...</th>\n",
              "      <td>...</td>\n",
              "      <td>...</td>\n",
              "      <td>...</td>\n",
              "      <td>...</td>\n",
              "      <td>...</td>\n",
              "      <td>...</td>\n",
              "      <td>...</td>\n",
              "    </tr>\n",
              "    <tr>\n",
              "      <th>1780</th>\n",
              "      <td>2022-03-30</td>\n",
              "      <td>43.750000</td>\n",
              "      <td>44.000000</td>\n",
              "      <td>41.150002</td>\n",
              "      <td>41.529999</td>\n",
              "      <td>41.529999</td>\n",
              "      <td>186300</td>\n",
              "    </tr>\n",
              "    <tr>\n",
              "      <th>1781</th>\n",
              "      <td>2022-03-31</td>\n",
              "      <td>41.520000</td>\n",
              "      <td>42.130001</td>\n",
              "      <td>39.799999</td>\n",
              "      <td>39.959999</td>\n",
              "      <td>39.959999</td>\n",
              "      <td>215400</td>\n",
              "    </tr>\n",
              "    <tr>\n",
              "      <th>1782</th>\n",
              "      <td>2022-04-01</td>\n",
              "      <td>40.250000</td>\n",
              "      <td>40.299999</td>\n",
              "      <td>37.130001</td>\n",
              "      <td>38.320000</td>\n",
              "      <td>38.320000</td>\n",
              "      <td>295200</td>\n",
              "    </tr>\n",
              "    <tr>\n",
              "      <th>1783</th>\n",
              "      <td>2022-04-04</td>\n",
              "      <td>38.520000</td>\n",
              "      <td>39.959999</td>\n",
              "      <td>38.299999</td>\n",
              "      <td>39.849998</td>\n",
              "      <td>39.849998</td>\n",
              "      <td>181100</td>\n",
              "    </tr>\n",
              "    <tr>\n",
              "      <th>1784</th>\n",
              "      <td>2022-04-05</td>\n",
              "      <td>39.330002</td>\n",
              "      <td>39.340000</td>\n",
              "      <td>36.130001</td>\n",
              "      <td>36.310001</td>\n",
              "      <td>36.310001</td>\n",
              "      <td>329200</td>\n",
              "    </tr>\n",
              "  </tbody>\n",
              "</table>\n",
              "<p>1785 rows × 7 columns</p>\n",
              "</div>\n",
              "      <button class=\"colab-df-convert\" onclick=\"convertToInteractive('df-bc304e78-c469-4767-a243-bb966d17ed99')\"\n",
              "              title=\"Convert this dataframe to an interactive table.\"\n",
              "              style=\"display:none;\">\n",
              "        \n",
              "  <svg xmlns=\"http://www.w3.org/2000/svg\" height=\"24px\"viewBox=\"0 0 24 24\"\n",
              "       width=\"24px\">\n",
              "    <path d=\"M0 0h24v24H0V0z\" fill=\"none\"/>\n",
              "    <path d=\"M18.56 5.44l.94 2.06.94-2.06 2.06-.94-2.06-.94-.94-2.06-.94 2.06-2.06.94zm-11 1L8.5 8.5l.94-2.06 2.06-.94-2.06-.94L8.5 2.5l-.94 2.06-2.06.94zm10 10l.94 2.06.94-2.06 2.06-.94-2.06-.94-.94-2.06-.94 2.06-2.06.94z\"/><path d=\"M17.41 7.96l-1.37-1.37c-.4-.4-.92-.59-1.43-.59-.52 0-1.04.2-1.43.59L10.3 9.45l-7.72 7.72c-.78.78-.78 2.05 0 2.83L4 21.41c.39.39.9.59 1.41.59.51 0 1.02-.2 1.41-.59l7.78-7.78 2.81-2.81c.8-.78.8-2.07 0-2.86zM5.41 20L4 18.59l7.72-7.72 1.47 1.35L5.41 20z\"/>\n",
              "  </svg>\n",
              "      </button>\n",
              "      \n",
              "  <style>\n",
              "    .colab-df-container {\n",
              "      display:flex;\n",
              "      flex-wrap:wrap;\n",
              "      gap: 12px;\n",
              "    }\n",
              "\n",
              "    .colab-df-convert {\n",
              "      background-color: #E8F0FE;\n",
              "      border: none;\n",
              "      border-radius: 50%;\n",
              "      cursor: pointer;\n",
              "      display: none;\n",
              "      fill: #1967D2;\n",
              "      height: 32px;\n",
              "      padding: 0 0 0 0;\n",
              "      width: 32px;\n",
              "    }\n",
              "\n",
              "    .colab-df-convert:hover {\n",
              "      background-color: #E2EBFA;\n",
              "      box-shadow: 0px 1px 2px rgba(60, 64, 67, 0.3), 0px 1px 3px 1px rgba(60, 64, 67, 0.15);\n",
              "      fill: #174EA6;\n",
              "    }\n",
              "\n",
              "    [theme=dark] .colab-df-convert {\n",
              "      background-color: #3B4455;\n",
              "      fill: #D2E3FC;\n",
              "    }\n",
              "\n",
              "    [theme=dark] .colab-df-convert:hover {\n",
              "      background-color: #434B5C;\n",
              "      box-shadow: 0px 1px 3px 1px rgba(0, 0, 0, 0.15);\n",
              "      filter: drop-shadow(0px 1px 2px rgba(0, 0, 0, 0.3));\n",
              "      fill: #FFFFFF;\n",
              "    }\n",
              "  </style>\n",
              "\n",
              "      <script>\n",
              "        const buttonEl =\n",
              "          document.querySelector('#df-bc304e78-c469-4767-a243-bb966d17ed99 button.colab-df-convert');\n",
              "        buttonEl.style.display =\n",
              "          google.colab.kernel.accessAllowed ? 'block' : 'none';\n",
              "\n",
              "        async function convertToInteractive(key) {\n",
              "          const element = document.querySelector('#df-bc304e78-c469-4767-a243-bb966d17ed99');\n",
              "          const dataTable =\n",
              "            await google.colab.kernel.invokeFunction('convertToInteractive',\n",
              "                                                     [key], {});\n",
              "          if (!dataTable) return;\n",
              "\n",
              "          const docLinkHtml = 'Like what you see? Visit the ' +\n",
              "            '<a target=\"_blank\" href=https://colab.research.google.com/notebooks/data_table.ipynb>data table notebook</a>'\n",
              "            + ' to learn more about interactive tables.';\n",
              "          element.innerHTML = '';\n",
              "          dataTable['output_type'] = 'display_data';\n",
              "          await google.colab.output.renderOutput(dataTable, element);\n",
              "          const docLink = document.createElement('div');\n",
              "          docLink.innerHTML = docLinkHtml;\n",
              "          element.appendChild(docLink);\n",
              "        }\n",
              "      </script>\n",
              "    </div>\n",
              "  </div>\n",
              "  "
            ]
          },
          "metadata": {},
          "execution_count": 4
        }
      ]
    },
    {
      "cell_type": "code",
      "source": [
        "data.head()"
      ],
      "metadata": {
        "colab": {
          "base_uri": "https://localhost:8080/",
          "height": 206
        },
        "id": "qEuvyZ-OuNeD",
        "outputId": "12e753d0-1a25-4b54-f097-c5d607b6ba78"
      },
      "execution_count": 5,
      "outputs": [
        {
          "output_type": "execute_result",
          "data": {
            "text/plain": [
              "         Date      Open      High       Low     Close  Adj Close  Volume\n",
              "0  2015-03-06  4.010417  4.029583  3.917083  3.917083   3.793007  211200\n",
              "1  2015-03-09  3.928750  3.934583  3.909583  3.930417   3.805918   86400\n",
              "2  2015-03-10  3.882083  3.888333  3.755000  3.781250   3.661476  276000\n",
              "3  2015-03-11  3.825000  3.893750  3.817500  3.830417   3.709086  105600\n",
              "4  2015-03-12  3.719167  3.767083  3.635833  3.715000   3.597324  331200"
            ],
            "text/html": [
              "\n",
              "  <div id=\"df-66853f68-db64-4b3e-b609-075a717ea14e\">\n",
              "    <div class=\"colab-df-container\">\n",
              "      <div>\n",
              "<style scoped>\n",
              "    .dataframe tbody tr th:only-of-type {\n",
              "        vertical-align: middle;\n",
              "    }\n",
              "\n",
              "    .dataframe tbody tr th {\n",
              "        vertical-align: top;\n",
              "    }\n",
              "\n",
              "    .dataframe thead th {\n",
              "        text-align: right;\n",
              "    }\n",
              "</style>\n",
              "<table border=\"1\" class=\"dataframe\">\n",
              "  <thead>\n",
              "    <tr style=\"text-align: right;\">\n",
              "      <th></th>\n",
              "      <th>Date</th>\n",
              "      <th>Open</th>\n",
              "      <th>High</th>\n",
              "      <th>Low</th>\n",
              "      <th>Close</th>\n",
              "      <th>Adj Close</th>\n",
              "      <th>Volume</th>\n",
              "    </tr>\n",
              "  </thead>\n",
              "  <tbody>\n",
              "    <tr>\n",
              "      <th>0</th>\n",
              "      <td>2015-03-06</td>\n",
              "      <td>4.010417</td>\n",
              "      <td>4.029583</td>\n",
              "      <td>3.917083</td>\n",
              "      <td>3.917083</td>\n",
              "      <td>3.793007</td>\n",
              "      <td>211200</td>\n",
              "    </tr>\n",
              "    <tr>\n",
              "      <th>1</th>\n",
              "      <td>2015-03-09</td>\n",
              "      <td>3.928750</td>\n",
              "      <td>3.934583</td>\n",
              "      <td>3.909583</td>\n",
              "      <td>3.930417</td>\n",
              "      <td>3.805918</td>\n",
              "      <td>86400</td>\n",
              "    </tr>\n",
              "    <tr>\n",
              "      <th>2</th>\n",
              "      <td>2015-03-10</td>\n",
              "      <td>3.882083</td>\n",
              "      <td>3.888333</td>\n",
              "      <td>3.755000</td>\n",
              "      <td>3.781250</td>\n",
              "      <td>3.661476</td>\n",
              "      <td>276000</td>\n",
              "    </tr>\n",
              "    <tr>\n",
              "      <th>3</th>\n",
              "      <td>2015-03-11</td>\n",
              "      <td>3.825000</td>\n",
              "      <td>3.893750</td>\n",
              "      <td>3.817500</td>\n",
              "      <td>3.830417</td>\n",
              "      <td>3.709086</td>\n",
              "      <td>105600</td>\n",
              "    </tr>\n",
              "    <tr>\n",
              "      <th>4</th>\n",
              "      <td>2015-03-12</td>\n",
              "      <td>3.719167</td>\n",
              "      <td>3.767083</td>\n",
              "      <td>3.635833</td>\n",
              "      <td>3.715000</td>\n",
              "      <td>3.597324</td>\n",
              "      <td>331200</td>\n",
              "    </tr>\n",
              "  </tbody>\n",
              "</table>\n",
              "</div>\n",
              "      <button class=\"colab-df-convert\" onclick=\"convertToInteractive('df-66853f68-db64-4b3e-b609-075a717ea14e')\"\n",
              "              title=\"Convert this dataframe to an interactive table.\"\n",
              "              style=\"display:none;\">\n",
              "        \n",
              "  <svg xmlns=\"http://www.w3.org/2000/svg\" height=\"24px\"viewBox=\"0 0 24 24\"\n",
              "       width=\"24px\">\n",
              "    <path d=\"M0 0h24v24H0V0z\" fill=\"none\"/>\n",
              "    <path d=\"M18.56 5.44l.94 2.06.94-2.06 2.06-.94-2.06-.94-.94-2.06-.94 2.06-2.06.94zm-11 1L8.5 8.5l.94-2.06 2.06-.94-2.06-.94L8.5 2.5l-.94 2.06-2.06.94zm10 10l.94 2.06.94-2.06 2.06-.94-2.06-.94-.94-2.06-.94 2.06-2.06.94z\"/><path d=\"M17.41 7.96l-1.37-1.37c-.4-.4-.92-.59-1.43-.59-.52 0-1.04.2-1.43.59L10.3 9.45l-7.72 7.72c-.78.78-.78 2.05 0 2.83L4 21.41c.39.39.9.59 1.41.59.51 0 1.02-.2 1.41-.59l7.78-7.78 2.81-2.81c.8-.78.8-2.07 0-2.86zM5.41 20L4 18.59l7.72-7.72 1.47 1.35L5.41 20z\"/>\n",
              "  </svg>\n",
              "      </button>\n",
              "      \n",
              "  <style>\n",
              "    .colab-df-container {\n",
              "      display:flex;\n",
              "      flex-wrap:wrap;\n",
              "      gap: 12px;\n",
              "    }\n",
              "\n",
              "    .colab-df-convert {\n",
              "      background-color: #E8F0FE;\n",
              "      border: none;\n",
              "      border-radius: 50%;\n",
              "      cursor: pointer;\n",
              "      display: none;\n",
              "      fill: #1967D2;\n",
              "      height: 32px;\n",
              "      padding: 0 0 0 0;\n",
              "      width: 32px;\n",
              "    }\n",
              "\n",
              "    .colab-df-convert:hover {\n",
              "      background-color: #E2EBFA;\n",
              "      box-shadow: 0px 1px 2px rgba(60, 64, 67, 0.3), 0px 1px 3px 1px rgba(60, 64, 67, 0.15);\n",
              "      fill: #174EA6;\n",
              "    }\n",
              "\n",
              "    [theme=dark] .colab-df-convert {\n",
              "      background-color: #3B4455;\n",
              "      fill: #D2E3FC;\n",
              "    }\n",
              "\n",
              "    [theme=dark] .colab-df-convert:hover {\n",
              "      background-color: #434B5C;\n",
              "      box-shadow: 0px 1px 3px 1px rgba(0, 0, 0, 0.15);\n",
              "      filter: drop-shadow(0px 1px 2px rgba(0, 0, 0, 0.3));\n",
              "      fill: #FFFFFF;\n",
              "    }\n",
              "  </style>\n",
              "\n",
              "      <script>\n",
              "        const buttonEl =\n",
              "          document.querySelector('#df-66853f68-db64-4b3e-b609-075a717ea14e button.colab-df-convert');\n",
              "        buttonEl.style.display =\n",
              "          google.colab.kernel.accessAllowed ? 'block' : 'none';\n",
              "\n",
              "        async function convertToInteractive(key) {\n",
              "          const element = document.querySelector('#df-66853f68-db64-4b3e-b609-075a717ea14e');\n",
              "          const dataTable =\n",
              "            await google.colab.kernel.invokeFunction('convertToInteractive',\n",
              "                                                     [key], {});\n",
              "          if (!dataTable) return;\n",
              "\n",
              "          const docLinkHtml = 'Like what you see? Visit the ' +\n",
              "            '<a target=\"_blank\" href=https://colab.research.google.com/notebooks/data_table.ipynb>data table notebook</a>'\n",
              "            + ' to learn more about interactive tables.';\n",
              "          element.innerHTML = '';\n",
              "          dataTable['output_type'] = 'display_data';\n",
              "          await google.colab.output.renderOutput(dataTable, element);\n",
              "          const docLink = document.createElement('div');\n",
              "          docLink.innerHTML = docLinkHtml;\n",
              "          element.appendChild(docLink);\n",
              "        }\n",
              "      </script>\n",
              "    </div>\n",
              "  </div>\n",
              "  "
            ]
          },
          "metadata": {},
          "execution_count": 5
        }
      ]
    },
    {
      "cell_type": "code",
      "source": [
        "data.tail()"
      ],
      "metadata": {
        "colab": {
          "base_uri": "https://localhost:8080/",
          "height": 206
        },
        "id": "6eecUByKuQs3",
        "outputId": "636508d9-4a3c-48da-bfb4-767a7cee92b3"
      },
      "execution_count": 6,
      "outputs": [
        {
          "output_type": "execute_result",
          "data": {
            "text/plain": [
              "            Date       Open       High        Low      Close  Adj Close  \\\n",
              "1780  2022-03-30  43.750000  44.000000  41.150002  41.529999  41.529999   \n",
              "1781  2022-03-31  41.520000  42.130001  39.799999  39.959999  39.959999   \n",
              "1782  2022-04-01  40.250000  40.299999  37.130001  38.320000  38.320000   \n",
              "1783  2022-04-04  38.520000  39.959999  38.299999  39.849998  39.849998   \n",
              "1784  2022-04-05  39.330002  39.340000  36.130001  36.310001  36.310001   \n",
              "\n",
              "      Volume  \n",
              "1780  186300  \n",
              "1781  215400  \n",
              "1782  295200  \n",
              "1783  181100  \n",
              "1784  329200  "
            ],
            "text/html": [
              "\n",
              "  <div id=\"df-7186e50d-eb31-4dd5-aeb1-5f4da714efa8\">\n",
              "    <div class=\"colab-df-container\">\n",
              "      <div>\n",
              "<style scoped>\n",
              "    .dataframe tbody tr th:only-of-type {\n",
              "        vertical-align: middle;\n",
              "    }\n",
              "\n",
              "    .dataframe tbody tr th {\n",
              "        vertical-align: top;\n",
              "    }\n",
              "\n",
              "    .dataframe thead th {\n",
              "        text-align: right;\n",
              "    }\n",
              "</style>\n",
              "<table border=\"1\" class=\"dataframe\">\n",
              "  <thead>\n",
              "    <tr style=\"text-align: right;\">\n",
              "      <th></th>\n",
              "      <th>Date</th>\n",
              "      <th>Open</th>\n",
              "      <th>High</th>\n",
              "      <th>Low</th>\n",
              "      <th>Close</th>\n",
              "      <th>Adj Close</th>\n",
              "      <th>Volume</th>\n",
              "    </tr>\n",
              "  </thead>\n",
              "  <tbody>\n",
              "    <tr>\n",
              "      <th>1780</th>\n",
              "      <td>2022-03-30</td>\n",
              "      <td>43.750000</td>\n",
              "      <td>44.000000</td>\n",
              "      <td>41.150002</td>\n",
              "      <td>41.529999</td>\n",
              "      <td>41.529999</td>\n",
              "      <td>186300</td>\n",
              "    </tr>\n",
              "    <tr>\n",
              "      <th>1781</th>\n",
              "      <td>2022-03-31</td>\n",
              "      <td>41.520000</td>\n",
              "      <td>42.130001</td>\n",
              "      <td>39.799999</td>\n",
              "      <td>39.959999</td>\n",
              "      <td>39.959999</td>\n",
              "      <td>215400</td>\n",
              "    </tr>\n",
              "    <tr>\n",
              "      <th>1782</th>\n",
              "      <td>2022-04-01</td>\n",
              "      <td>40.250000</td>\n",
              "      <td>40.299999</td>\n",
              "      <td>37.130001</td>\n",
              "      <td>38.320000</td>\n",
              "      <td>38.320000</td>\n",
              "      <td>295200</td>\n",
              "    </tr>\n",
              "    <tr>\n",
              "      <th>1783</th>\n",
              "      <td>2022-04-04</td>\n",
              "      <td>38.520000</td>\n",
              "      <td>39.959999</td>\n",
              "      <td>38.299999</td>\n",
              "      <td>39.849998</td>\n",
              "      <td>39.849998</td>\n",
              "      <td>181100</td>\n",
              "    </tr>\n",
              "    <tr>\n",
              "      <th>1784</th>\n",
              "      <td>2022-04-05</td>\n",
              "      <td>39.330002</td>\n",
              "      <td>39.340000</td>\n",
              "      <td>36.130001</td>\n",
              "      <td>36.310001</td>\n",
              "      <td>36.310001</td>\n",
              "      <td>329200</td>\n",
              "    </tr>\n",
              "  </tbody>\n",
              "</table>\n",
              "</div>\n",
              "      <button class=\"colab-df-convert\" onclick=\"convertToInteractive('df-7186e50d-eb31-4dd5-aeb1-5f4da714efa8')\"\n",
              "              title=\"Convert this dataframe to an interactive table.\"\n",
              "              style=\"display:none;\">\n",
              "        \n",
              "  <svg xmlns=\"http://www.w3.org/2000/svg\" height=\"24px\"viewBox=\"0 0 24 24\"\n",
              "       width=\"24px\">\n",
              "    <path d=\"M0 0h24v24H0V0z\" fill=\"none\"/>\n",
              "    <path d=\"M18.56 5.44l.94 2.06.94-2.06 2.06-.94-2.06-.94-.94-2.06-.94 2.06-2.06.94zm-11 1L8.5 8.5l.94-2.06 2.06-.94-2.06-.94L8.5 2.5l-.94 2.06-2.06.94zm10 10l.94 2.06.94-2.06 2.06-.94-2.06-.94-.94-2.06-.94 2.06-2.06.94z\"/><path d=\"M17.41 7.96l-1.37-1.37c-.4-.4-.92-.59-1.43-.59-.52 0-1.04.2-1.43.59L10.3 9.45l-7.72 7.72c-.78.78-.78 2.05 0 2.83L4 21.41c.39.39.9.59 1.41.59.51 0 1.02-.2 1.41-.59l7.78-7.78 2.81-2.81c.8-.78.8-2.07 0-2.86zM5.41 20L4 18.59l7.72-7.72 1.47 1.35L5.41 20z\"/>\n",
              "  </svg>\n",
              "      </button>\n",
              "      \n",
              "  <style>\n",
              "    .colab-df-container {\n",
              "      display:flex;\n",
              "      flex-wrap:wrap;\n",
              "      gap: 12px;\n",
              "    }\n",
              "\n",
              "    .colab-df-convert {\n",
              "      background-color: #E8F0FE;\n",
              "      border: none;\n",
              "      border-radius: 50%;\n",
              "      cursor: pointer;\n",
              "      display: none;\n",
              "      fill: #1967D2;\n",
              "      height: 32px;\n",
              "      padding: 0 0 0 0;\n",
              "      width: 32px;\n",
              "    }\n",
              "\n",
              "    .colab-df-convert:hover {\n",
              "      background-color: #E2EBFA;\n",
              "      box-shadow: 0px 1px 2px rgba(60, 64, 67, 0.3), 0px 1px 3px 1px rgba(60, 64, 67, 0.15);\n",
              "      fill: #174EA6;\n",
              "    }\n",
              "\n",
              "    [theme=dark] .colab-df-convert {\n",
              "      background-color: #3B4455;\n",
              "      fill: #D2E3FC;\n",
              "    }\n",
              "\n",
              "    [theme=dark] .colab-df-convert:hover {\n",
              "      background-color: #434B5C;\n",
              "      box-shadow: 0px 1px 3px 1px rgba(0, 0, 0, 0.15);\n",
              "      filter: drop-shadow(0px 1px 2px rgba(0, 0, 0, 0.3));\n",
              "      fill: #FFFFFF;\n",
              "    }\n",
              "  </style>\n",
              "\n",
              "      <script>\n",
              "        const buttonEl =\n",
              "          document.querySelector('#df-7186e50d-eb31-4dd5-aeb1-5f4da714efa8 button.colab-df-convert');\n",
              "        buttonEl.style.display =\n",
              "          google.colab.kernel.accessAllowed ? 'block' : 'none';\n",
              "\n",
              "        async function convertToInteractive(key) {\n",
              "          const element = document.querySelector('#df-7186e50d-eb31-4dd5-aeb1-5f4da714efa8');\n",
              "          const dataTable =\n",
              "            await google.colab.kernel.invokeFunction('convertToInteractive',\n",
              "                                                     [key], {});\n",
              "          if (!dataTable) return;\n",
              "\n",
              "          const docLinkHtml = 'Like what you see? Visit the ' +\n",
              "            '<a target=\"_blank\" href=https://colab.research.google.com/notebooks/data_table.ipynb>data table notebook</a>'\n",
              "            + ' to learn more about interactive tables.';\n",
              "          element.innerHTML = '';\n",
              "          dataTable['output_type'] = 'display_data';\n",
              "          await google.colab.output.renderOutput(dataTable, element);\n",
              "          const docLink = document.createElement('div');\n",
              "          docLink.innerHTML = docLinkHtml;\n",
              "          element.appendChild(docLink);\n",
              "        }\n",
              "      </script>\n",
              "    </div>\n",
              "  </div>\n",
              "  "
            ]
          },
          "metadata": {},
          "execution_count": 6
        }
      ]
    },
    {
      "cell_type": "code",
      "source": [
        "data.info()"
      ],
      "metadata": {
        "colab": {
          "base_uri": "https://localhost:8080/"
        },
        "id": "Nlql5HQOuScJ",
        "outputId": "587314a7-d96f-48d2-8ce1-b27b59bcbc25"
      },
      "execution_count": 7,
      "outputs": [
        {
          "output_type": "stream",
          "name": "stdout",
          "text": [
            "<class 'pandas.core.frame.DataFrame'>\n",
            "RangeIndex: 1785 entries, 0 to 1784\n",
            "Data columns (total 7 columns):\n",
            " #   Column     Non-Null Count  Dtype  \n",
            "---  ------     --------------  -----  \n",
            " 0   Date       1785 non-null   object \n",
            " 1   Open       1785 non-null   float64\n",
            " 2   High       1785 non-null   float64\n",
            " 3   Low        1785 non-null   float64\n",
            " 4   Close      1785 non-null   float64\n",
            " 5   Adj Close  1785 non-null   float64\n",
            " 6   Volume     1785 non-null   int64  \n",
            "dtypes: float64(5), int64(1), object(1)\n",
            "memory usage: 97.7+ KB\n"
          ]
        }
      ]
    },
    {
      "cell_type": "code",
      "source": [
        "data.describe()"
      ],
      "metadata": {
        "colab": {
          "base_uri": "https://localhost:8080/",
          "height": 300
        },
        "id": "dhTxfsZwuTiv",
        "outputId": "d570bcfe-2e15-4df6-e53b-0cf45f888b71"
      },
      "execution_count": 8,
      "outputs": [
        {
          "output_type": "execute_result",
          "data": {
            "text/plain": [
              "              Open         High          Low        Close    Adj Close  \\\n",
              "count  1785.000000  1785.000000  1785.000000  1785.000000  1785.000000   \n",
              "mean     13.990793    14.255460    13.669206    13.971797    13.876243   \n",
              "std      11.945597    12.230573    11.581904    11.916082    11.962331   \n",
              "min       2.423750     2.500833     2.166667     2.407500     2.334520   \n",
              "25%       5.575000     5.619583     5.497917     5.562083     5.414639   \n",
              "50%      10.475833    10.625000    10.257500    10.440000    10.281868   \n",
              "75%      16.232500    16.350000    15.852500    16.172501    16.128254   \n",
              "max      56.669998    58.410000    54.500000    56.220001    56.220001   \n",
              "\n",
              "             Volume  \n",
              "count  1.785000e+03  \n",
              "mean   1.582318e+05  \n",
              "std    1.745477e+05  \n",
              "min    0.000000e+00  \n",
              "25%    6.960000e+04  \n",
              "50%    1.164000e+05  \n",
              "75%    1.940000e+05  \n",
              "max    3.158400e+06  "
            ],
            "text/html": [
              "\n",
              "  <div id=\"df-65048ce0-add5-4651-b626-9fe86f3c8bf9\">\n",
              "    <div class=\"colab-df-container\">\n",
              "      <div>\n",
              "<style scoped>\n",
              "    .dataframe tbody tr th:only-of-type {\n",
              "        vertical-align: middle;\n",
              "    }\n",
              "\n",
              "    .dataframe tbody tr th {\n",
              "        vertical-align: top;\n",
              "    }\n",
              "\n",
              "    .dataframe thead th {\n",
              "        text-align: right;\n",
              "    }\n",
              "</style>\n",
              "<table border=\"1\" class=\"dataframe\">\n",
              "  <thead>\n",
              "    <tr style=\"text-align: right;\">\n",
              "      <th></th>\n",
              "      <th>Open</th>\n",
              "      <th>High</th>\n",
              "      <th>Low</th>\n",
              "      <th>Close</th>\n",
              "      <th>Adj Close</th>\n",
              "      <th>Volume</th>\n",
              "    </tr>\n",
              "  </thead>\n",
              "  <tbody>\n",
              "    <tr>\n",
              "      <th>count</th>\n",
              "      <td>1785.000000</td>\n",
              "      <td>1785.000000</td>\n",
              "      <td>1785.000000</td>\n",
              "      <td>1785.000000</td>\n",
              "      <td>1785.000000</td>\n",
              "      <td>1.785000e+03</td>\n",
              "    </tr>\n",
              "    <tr>\n",
              "      <th>mean</th>\n",
              "      <td>13.990793</td>\n",
              "      <td>14.255460</td>\n",
              "      <td>13.669206</td>\n",
              "      <td>13.971797</td>\n",
              "      <td>13.876243</td>\n",
              "      <td>1.582318e+05</td>\n",
              "    </tr>\n",
              "    <tr>\n",
              "      <th>std</th>\n",
              "      <td>11.945597</td>\n",
              "      <td>12.230573</td>\n",
              "      <td>11.581904</td>\n",
              "      <td>11.916082</td>\n",
              "      <td>11.962331</td>\n",
              "      <td>1.745477e+05</td>\n",
              "    </tr>\n",
              "    <tr>\n",
              "      <th>min</th>\n",
              "      <td>2.423750</td>\n",
              "      <td>2.500833</td>\n",
              "      <td>2.166667</td>\n",
              "      <td>2.407500</td>\n",
              "      <td>2.334520</td>\n",
              "      <td>0.000000e+00</td>\n",
              "    </tr>\n",
              "    <tr>\n",
              "      <th>25%</th>\n",
              "      <td>5.575000</td>\n",
              "      <td>5.619583</td>\n",
              "      <td>5.497917</td>\n",
              "      <td>5.562083</td>\n",
              "      <td>5.414639</td>\n",
              "      <td>6.960000e+04</td>\n",
              "    </tr>\n",
              "    <tr>\n",
              "      <th>50%</th>\n",
              "      <td>10.475833</td>\n",
              "      <td>10.625000</td>\n",
              "      <td>10.257500</td>\n",
              "      <td>10.440000</td>\n",
              "      <td>10.281868</td>\n",
              "      <td>1.164000e+05</td>\n",
              "    </tr>\n",
              "    <tr>\n",
              "      <th>75%</th>\n",
              "      <td>16.232500</td>\n",
              "      <td>16.350000</td>\n",
              "      <td>15.852500</td>\n",
              "      <td>16.172501</td>\n",
              "      <td>16.128254</td>\n",
              "      <td>1.940000e+05</td>\n",
              "    </tr>\n",
              "    <tr>\n",
              "      <th>max</th>\n",
              "      <td>56.669998</td>\n",
              "      <td>58.410000</td>\n",
              "      <td>54.500000</td>\n",
              "      <td>56.220001</td>\n",
              "      <td>56.220001</td>\n",
              "      <td>3.158400e+06</td>\n",
              "    </tr>\n",
              "  </tbody>\n",
              "</table>\n",
              "</div>\n",
              "      <button class=\"colab-df-convert\" onclick=\"convertToInteractive('df-65048ce0-add5-4651-b626-9fe86f3c8bf9')\"\n",
              "              title=\"Convert this dataframe to an interactive table.\"\n",
              "              style=\"display:none;\">\n",
              "        \n",
              "  <svg xmlns=\"http://www.w3.org/2000/svg\" height=\"24px\"viewBox=\"0 0 24 24\"\n",
              "       width=\"24px\">\n",
              "    <path d=\"M0 0h24v24H0V0z\" fill=\"none\"/>\n",
              "    <path d=\"M18.56 5.44l.94 2.06.94-2.06 2.06-.94-2.06-.94-.94-2.06-.94 2.06-2.06.94zm-11 1L8.5 8.5l.94-2.06 2.06-.94-2.06-.94L8.5 2.5l-.94 2.06-2.06.94zm10 10l.94 2.06.94-2.06 2.06-.94-2.06-.94-.94-2.06-.94 2.06-2.06.94z\"/><path d=\"M17.41 7.96l-1.37-1.37c-.4-.4-.92-.59-1.43-.59-.52 0-1.04.2-1.43.59L10.3 9.45l-7.72 7.72c-.78.78-.78 2.05 0 2.83L4 21.41c.39.39.9.59 1.41.59.51 0 1.02-.2 1.41-.59l7.78-7.78 2.81-2.81c.8-.78.8-2.07 0-2.86zM5.41 20L4 18.59l7.72-7.72 1.47 1.35L5.41 20z\"/>\n",
              "  </svg>\n",
              "      </button>\n",
              "      \n",
              "  <style>\n",
              "    .colab-df-container {\n",
              "      display:flex;\n",
              "      flex-wrap:wrap;\n",
              "      gap: 12px;\n",
              "    }\n",
              "\n",
              "    .colab-df-convert {\n",
              "      background-color: #E8F0FE;\n",
              "      border: none;\n",
              "      border-radius: 50%;\n",
              "      cursor: pointer;\n",
              "      display: none;\n",
              "      fill: #1967D2;\n",
              "      height: 32px;\n",
              "      padding: 0 0 0 0;\n",
              "      width: 32px;\n",
              "    }\n",
              "\n",
              "    .colab-df-convert:hover {\n",
              "      background-color: #E2EBFA;\n",
              "      box-shadow: 0px 1px 2px rgba(60, 64, 67, 0.3), 0px 1px 3px 1px rgba(60, 64, 67, 0.15);\n",
              "      fill: #174EA6;\n",
              "    }\n",
              "\n",
              "    [theme=dark] .colab-df-convert {\n",
              "      background-color: #3B4455;\n",
              "      fill: #D2E3FC;\n",
              "    }\n",
              "\n",
              "    [theme=dark] .colab-df-convert:hover {\n",
              "      background-color: #434B5C;\n",
              "      box-shadow: 0px 1px 3px 1px rgba(0, 0, 0, 0.15);\n",
              "      filter: drop-shadow(0px 1px 2px rgba(0, 0, 0, 0.3));\n",
              "      fill: #FFFFFF;\n",
              "    }\n",
              "  </style>\n",
              "\n",
              "      <script>\n",
              "        const buttonEl =\n",
              "          document.querySelector('#df-65048ce0-add5-4651-b626-9fe86f3c8bf9 button.colab-df-convert');\n",
              "        buttonEl.style.display =\n",
              "          google.colab.kernel.accessAllowed ? 'block' : 'none';\n",
              "\n",
              "        async function convertToInteractive(key) {\n",
              "          const element = document.querySelector('#df-65048ce0-add5-4651-b626-9fe86f3c8bf9');\n",
              "          const dataTable =\n",
              "            await google.colab.kernel.invokeFunction('convertToInteractive',\n",
              "                                                     [key], {});\n",
              "          if (!dataTable) return;\n",
              "\n",
              "          const docLinkHtml = 'Like what you see? Visit the ' +\n",
              "            '<a target=\"_blank\" href=https://colab.research.google.com/notebooks/data_table.ipynb>data table notebook</a>'\n",
              "            + ' to learn more about interactive tables.';\n",
              "          element.innerHTML = '';\n",
              "          dataTable['output_type'] = 'display_data';\n",
              "          await google.colab.output.renderOutput(dataTable, element);\n",
              "          const docLink = document.createElement('div');\n",
              "          docLink.innerHTML = docLinkHtml;\n",
              "          element.appendChild(docLink);\n",
              "        }\n",
              "      </script>\n",
              "    </div>\n",
              "  </div>\n",
              "  "
            ]
          },
          "metadata": {},
          "execution_count": 8
        }
      ]
    },
    {
      "cell_type": "code",
      "source": [
        "data.isnull()"
      ],
      "metadata": {
        "colab": {
          "base_uri": "https://localhost:8080/",
          "height": 423
        },
        "id": "MQDmJQOhuWEC",
        "outputId": "20457db6-bec2-4978-a26b-90dab95ddcab"
      },
      "execution_count": 9,
      "outputs": [
        {
          "output_type": "execute_result",
          "data": {
            "text/plain": [
              "       Date   Open   High    Low  Close  Adj Close  Volume\n",
              "0     False  False  False  False  False      False   False\n",
              "1     False  False  False  False  False      False   False\n",
              "2     False  False  False  False  False      False   False\n",
              "3     False  False  False  False  False      False   False\n",
              "4     False  False  False  False  False      False   False\n",
              "...     ...    ...    ...    ...    ...        ...     ...\n",
              "1780  False  False  False  False  False      False   False\n",
              "1781  False  False  False  False  False      False   False\n",
              "1782  False  False  False  False  False      False   False\n",
              "1783  False  False  False  False  False      False   False\n",
              "1784  False  False  False  False  False      False   False\n",
              "\n",
              "[1785 rows x 7 columns]"
            ],
            "text/html": [
              "\n",
              "  <div id=\"df-1a634e48-77f9-460a-9e52-1ed9803fc668\">\n",
              "    <div class=\"colab-df-container\">\n",
              "      <div>\n",
              "<style scoped>\n",
              "    .dataframe tbody tr th:only-of-type {\n",
              "        vertical-align: middle;\n",
              "    }\n",
              "\n",
              "    .dataframe tbody tr th {\n",
              "        vertical-align: top;\n",
              "    }\n",
              "\n",
              "    .dataframe thead th {\n",
              "        text-align: right;\n",
              "    }\n",
              "</style>\n",
              "<table border=\"1\" class=\"dataframe\">\n",
              "  <thead>\n",
              "    <tr style=\"text-align: right;\">\n",
              "      <th></th>\n",
              "      <th>Date</th>\n",
              "      <th>Open</th>\n",
              "      <th>High</th>\n",
              "      <th>Low</th>\n",
              "      <th>Close</th>\n",
              "      <th>Adj Close</th>\n",
              "      <th>Volume</th>\n",
              "    </tr>\n",
              "  </thead>\n",
              "  <tbody>\n",
              "    <tr>\n",
              "      <th>0</th>\n",
              "      <td>False</td>\n",
              "      <td>False</td>\n",
              "      <td>False</td>\n",
              "      <td>False</td>\n",
              "      <td>False</td>\n",
              "      <td>False</td>\n",
              "      <td>False</td>\n",
              "    </tr>\n",
              "    <tr>\n",
              "      <th>1</th>\n",
              "      <td>False</td>\n",
              "      <td>False</td>\n",
              "      <td>False</td>\n",
              "      <td>False</td>\n",
              "      <td>False</td>\n",
              "      <td>False</td>\n",
              "      <td>False</td>\n",
              "    </tr>\n",
              "    <tr>\n",
              "      <th>2</th>\n",
              "      <td>False</td>\n",
              "      <td>False</td>\n",
              "      <td>False</td>\n",
              "      <td>False</td>\n",
              "      <td>False</td>\n",
              "      <td>False</td>\n",
              "      <td>False</td>\n",
              "    </tr>\n",
              "    <tr>\n",
              "      <th>3</th>\n",
              "      <td>False</td>\n",
              "      <td>False</td>\n",
              "      <td>False</td>\n",
              "      <td>False</td>\n",
              "      <td>False</td>\n",
              "      <td>False</td>\n",
              "      <td>False</td>\n",
              "    </tr>\n",
              "    <tr>\n",
              "      <th>4</th>\n",
              "      <td>False</td>\n",
              "      <td>False</td>\n",
              "      <td>False</td>\n",
              "      <td>False</td>\n",
              "      <td>False</td>\n",
              "      <td>False</td>\n",
              "      <td>False</td>\n",
              "    </tr>\n",
              "    <tr>\n",
              "      <th>...</th>\n",
              "      <td>...</td>\n",
              "      <td>...</td>\n",
              "      <td>...</td>\n",
              "      <td>...</td>\n",
              "      <td>...</td>\n",
              "      <td>...</td>\n",
              "      <td>...</td>\n",
              "    </tr>\n",
              "    <tr>\n",
              "      <th>1780</th>\n",
              "      <td>False</td>\n",
              "      <td>False</td>\n",
              "      <td>False</td>\n",
              "      <td>False</td>\n",
              "      <td>False</td>\n",
              "      <td>False</td>\n",
              "      <td>False</td>\n",
              "    </tr>\n",
              "    <tr>\n",
              "      <th>1781</th>\n",
              "      <td>False</td>\n",
              "      <td>False</td>\n",
              "      <td>False</td>\n",
              "      <td>False</td>\n",
              "      <td>False</td>\n",
              "      <td>False</td>\n",
              "      <td>False</td>\n",
              "    </tr>\n",
              "    <tr>\n",
              "      <th>1782</th>\n",
              "      <td>False</td>\n",
              "      <td>False</td>\n",
              "      <td>False</td>\n",
              "      <td>False</td>\n",
              "      <td>False</td>\n",
              "      <td>False</td>\n",
              "      <td>False</td>\n",
              "    </tr>\n",
              "    <tr>\n",
              "      <th>1783</th>\n",
              "      <td>False</td>\n",
              "      <td>False</td>\n",
              "      <td>False</td>\n",
              "      <td>False</td>\n",
              "      <td>False</td>\n",
              "      <td>False</td>\n",
              "      <td>False</td>\n",
              "    </tr>\n",
              "    <tr>\n",
              "      <th>1784</th>\n",
              "      <td>False</td>\n",
              "      <td>False</td>\n",
              "      <td>False</td>\n",
              "      <td>False</td>\n",
              "      <td>False</td>\n",
              "      <td>False</td>\n",
              "      <td>False</td>\n",
              "    </tr>\n",
              "  </tbody>\n",
              "</table>\n",
              "<p>1785 rows × 7 columns</p>\n",
              "</div>\n",
              "      <button class=\"colab-df-convert\" onclick=\"convertToInteractive('df-1a634e48-77f9-460a-9e52-1ed9803fc668')\"\n",
              "              title=\"Convert this dataframe to an interactive table.\"\n",
              "              style=\"display:none;\">\n",
              "        \n",
              "  <svg xmlns=\"http://www.w3.org/2000/svg\" height=\"24px\"viewBox=\"0 0 24 24\"\n",
              "       width=\"24px\">\n",
              "    <path d=\"M0 0h24v24H0V0z\" fill=\"none\"/>\n",
              "    <path d=\"M18.56 5.44l.94 2.06.94-2.06 2.06-.94-2.06-.94-.94-2.06-.94 2.06-2.06.94zm-11 1L8.5 8.5l.94-2.06 2.06-.94-2.06-.94L8.5 2.5l-.94 2.06-2.06.94zm10 10l.94 2.06.94-2.06 2.06-.94-2.06-.94-.94-2.06-.94 2.06-2.06.94z\"/><path d=\"M17.41 7.96l-1.37-1.37c-.4-.4-.92-.59-1.43-.59-.52 0-1.04.2-1.43.59L10.3 9.45l-7.72 7.72c-.78.78-.78 2.05 0 2.83L4 21.41c.39.39.9.59 1.41.59.51 0 1.02-.2 1.41-.59l7.78-7.78 2.81-2.81c.8-.78.8-2.07 0-2.86zM5.41 20L4 18.59l7.72-7.72 1.47 1.35L5.41 20z\"/>\n",
              "  </svg>\n",
              "      </button>\n",
              "      \n",
              "  <style>\n",
              "    .colab-df-container {\n",
              "      display:flex;\n",
              "      flex-wrap:wrap;\n",
              "      gap: 12px;\n",
              "    }\n",
              "\n",
              "    .colab-df-convert {\n",
              "      background-color: #E8F0FE;\n",
              "      border: none;\n",
              "      border-radius: 50%;\n",
              "      cursor: pointer;\n",
              "      display: none;\n",
              "      fill: #1967D2;\n",
              "      height: 32px;\n",
              "      padding: 0 0 0 0;\n",
              "      width: 32px;\n",
              "    }\n",
              "\n",
              "    .colab-df-convert:hover {\n",
              "      background-color: #E2EBFA;\n",
              "      box-shadow: 0px 1px 2px rgba(60, 64, 67, 0.3), 0px 1px 3px 1px rgba(60, 64, 67, 0.15);\n",
              "      fill: #174EA6;\n",
              "    }\n",
              "\n",
              "    [theme=dark] .colab-df-convert {\n",
              "      background-color: #3B4455;\n",
              "      fill: #D2E3FC;\n",
              "    }\n",
              "\n",
              "    [theme=dark] .colab-df-convert:hover {\n",
              "      background-color: #434B5C;\n",
              "      box-shadow: 0px 1px 3px 1px rgba(0, 0, 0, 0.15);\n",
              "      filter: drop-shadow(0px 1px 2px rgba(0, 0, 0, 0.3));\n",
              "      fill: #FFFFFF;\n",
              "    }\n",
              "  </style>\n",
              "\n",
              "      <script>\n",
              "        const buttonEl =\n",
              "          document.querySelector('#df-1a634e48-77f9-460a-9e52-1ed9803fc668 button.colab-df-convert');\n",
              "        buttonEl.style.display =\n",
              "          google.colab.kernel.accessAllowed ? 'block' : 'none';\n",
              "\n",
              "        async function convertToInteractive(key) {\n",
              "          const element = document.querySelector('#df-1a634e48-77f9-460a-9e52-1ed9803fc668');\n",
              "          const dataTable =\n",
              "            await google.colab.kernel.invokeFunction('convertToInteractive',\n",
              "                                                     [key], {});\n",
              "          if (!dataTable) return;\n",
              "\n",
              "          const docLinkHtml = 'Like what you see? Visit the ' +\n",
              "            '<a target=\"_blank\" href=https://colab.research.google.com/notebooks/data_table.ipynb>data table notebook</a>'\n",
              "            + ' to learn more about interactive tables.';\n",
              "          element.innerHTML = '';\n",
              "          dataTable['output_type'] = 'display_data';\n",
              "          await google.colab.output.renderOutput(dataTable, element);\n",
              "          const docLink = document.createElement('div');\n",
              "          docLink.innerHTML = docLinkHtml;\n",
              "          element.appendChild(docLink);\n",
              "        }\n",
              "      </script>\n",
              "    </div>\n",
              "  </div>\n",
              "  "
            ]
          },
          "metadata": {},
          "execution_count": 9
        }
      ]
    },
    {
      "cell_type": "code",
      "source": [
        "data.isnull().sum()"
      ],
      "metadata": {
        "colab": {
          "base_uri": "https://localhost:8080/"
        },
        "id": "Si5DMD3tuZdq",
        "outputId": "997573e6-5381-4866-eac5-640b9f280dce"
      },
      "execution_count": 10,
      "outputs": [
        {
          "output_type": "execute_result",
          "data": {
            "text/plain": [
              "Date         0\n",
              "Open         0\n",
              "High         0\n",
              "Low          0\n",
              "Close        0\n",
              "Adj Close    0\n",
              "Volume       0\n",
              "dtype: int64"
            ]
          },
          "metadata": {},
          "execution_count": 10
        }
      ]
    },
    {
      "cell_type": "code",
      "source": [
        "start_date=data.iloc[0][0]\n",
        "end_date=data.iloc[-1][0]\n",
        "\n",
        "print('Start_Date',start_date)\n",
        "print('Finish_Date',end_date)"
      ],
      "metadata": {
        "colab": {
          "base_uri": "https://localhost:8080/"
        },
        "id": "jf-zJLsWucuR",
        "outputId": "56a2a633-df36-4051-b618-2a5b35d9fcc8"
      },
      "execution_count": 11,
      "outputs": [
        {
          "output_type": "stream",
          "name": "stdout",
          "text": [
            "Start_Date 2015-03-06\n",
            "Finish_Date 2022-04-05\n"
          ]
        }
      ]
    },
    {
      "cell_type": "code",
      "source": [
        "data['Date'] = pd.to_datetime(data['Date'], format='%Y-%m-%d')\n"
      ],
      "metadata": {
        "id": "-iYPsj_vu00F"
      },
      "execution_count": 12,
      "outputs": []
    },
    {
      "cell_type": "code",
      "source": [
        "data.index=data.Date"
      ],
      "metadata": {
        "id": "vOb3IbUNu-xz"
      },
      "execution_count": 13,
      "outputs": []
    },
    {
      "cell_type": "code",
      "source": [
        "fig = plt.figure(figsize=(15,8))\n",
        "data.Open.plot(label='Dollar (USD) Open Price ')\n",
        "plt.legend(loc='best')\n",
        "plt.title('Daily Exchange Rates, Open', fontsize=14)\n",
        "plt.grid(color = 'green', linestyle = '--', linewidth = 0.9)\n",
        "plt.show()"
      ],
      "metadata": {
        "colab": {
          "base_uri": "https://localhost:8080/",
          "height": 482
        },
        "id": "GZfHOsgmu_JK",
        "outputId": "0063170e-7894-4df9-f058-b6739e8ba637"
      },
      "execution_count": 14,
      "outputs": [
        {
          "output_type": "display_data",
          "data": {
            "text/plain": [
              "<Figure size 1080x576 with 1 Axes>"
            ],
            "image/png": "[encoded data removed]"
          },
          "metadata": {
            "needs_background": "light"
          }
        }
      ]
    },
    {
      "cell_type": "code",
      "source": [
        "fig = plt.figure(figsize=(15,8))\n",
        "data.Close.plot(label='Dollar (USD) Close Price ')\n",
        "plt.legend(loc='best')\n",
        "plt.title('Daily Exchange Rates, Close', fontsize=14)\n",
        "plt.grid(color = 'red', linestyle = '--', linewidth = 0.9)\n",
        "plt.show()"
      ],
      "metadata": {
        "colab": {
          "base_uri": "https://localhost:8080/",
          "height": 482
        },
        "id": "AYnT_RzkvErJ",
        "outputId": "75650210-8520-4153-bc1a-e4160519ff1c"
      },
      "execution_count": 15,
      "outputs": [
        {
          "output_type": "display_data",
          "data": {
            "text/plain": [
              "<Figure size 1080x576 with 1 Axes>"
            ],
            "image/png": "[encoded data removed]"
          },
          "metadata": {
            "needs_background": "light"
          }
        }
      ]
    },
    {
      "cell_type": "code",
      "source": [
        "values = data['Open'].values.reshape(-1,1)\n",
        "values = values.astype('float32')\n",
        "scaler = MinMaxScaler(feature_range=(0, 1))\n",
        "dataset = scaler.fit_transform(values)\n",
        "\n",
        "#verilerimizi 0-1 arasında ölçeklendirme yaptık"
      ],
      "metadata": {
        "id": "8MHPvzDovHSL"
      },
      "execution_count": 16,
      "outputs": []
    },
    {
      "cell_type": "code",
      "source": [
        "dataset[0:5]\n",
        "#ölçeklendirme yapmış olduğumuz verileri kontrol ediyoruz"
      ],
      "metadata": {
        "colab": {
          "base_uri": "https://localhost:8080/"
        },
        "id": "jZIY2EdRvaeV",
        "outputId": "32d00263-722d-44eb-9e05-08e034bd3cbc"
      },
      "execution_count": 17,
      "outputs": [
        {
          "output_type": "execute_result",
          "data": {
            "text/plain": [
              "array([[0.02924934],\n",
              "       [0.02774386],\n",
              "       [0.02688358],\n",
              "       [0.02583129],\n",
              "       [0.02388031]], dtype=float32)"
            ]
          },
          "metadata": {},
          "execution_count": 17
        }
      ]
    },
    {
      "cell_type": "code",
      "source": [
        "train_size_rate=0.70 #eğitim için elimizde olan verilerin %70 ını kullanacağız"
      ],
      "metadata": {
        "id": "TbA8Q_Uqvl0Z"
      },
      "execution_count": 18,
      "outputs": []
    },
    {
      "cell_type": "code",
      "source": [
        "train_size=int(len(dataset)*train_size_rate)"
      ],
      "metadata": {
        "id": "F8rXWOi7wmZn"
      },
      "execution_count": 19,
      "outputs": []
    },
    {
      "cell_type": "code",
      "source": [
        "test_size=len(dataset)-train_size\n",
        "# toplam veriden eğitim verilerini çıkartıtğımızada geriye kalan %30 lık kısmı test için kullanacağız"
      ],
      "metadata": {
        "id": "nKqWtUeUwock"
      },
      "execution_count": 20,
      "outputs": []
    },
    {
      "cell_type": "code",
      "source": [
        "train, test = dataset[0:train_size, :], dataset[train_size:len(dataset), :]\n"
      ],
      "metadata": {
        "id": "B0XyxGFQwqRf"
      },
      "execution_count": 21,
      "outputs": []
    },
    {
      "cell_type": "code",
      "source": [
        "print(\"Veri(Gün Sayısı) Sayıları (training set, test set): \" + str((len(train), len(test))))\n"
      ],
      "metadata": {
        "colab": {
          "base_uri": "https://localhost:8080/"
        },
        "id": "gtKmq2YBws_7",
        "outputId": "da554b02-ca80-4eff-a4fb-d73486b691b9"
      },
      "execution_count": 22,
      "outputs": [
        {
          "output_type": "stream",
          "name": "stdout",
          "text": [
            "Veri(Gün Sayısı) Sayıları (training set, test set): (1249, 536)\n"
          ]
        }
      ]
    },
    {
      "cell_type": "code",
      "source": [
        "#verisetini adım,adım okutup daha anlaşılır hale getirmek istiyoruz.\n",
        "#Asıl amaç son güne bakıp diğer günü tahmin edebilmek\n",
        "def create_dataset(dataset, window_size = 1):\n",
        "    data_X, data_Y = [], []\n",
        "    for i in range(len(dataset) - window_size - 1):\n",
        "        a = dataset[i:(i + window_size), 0]\n",
        "        data_X.append(a)\n",
        "        data_Y.append(dataset[i + window_size, 0])\n",
        "    return(np.array(data_X), np.array(data_Y))"
      ],
      "metadata": {
        "id": "YSvc8dhgw8z0"
      },
      "execution_count": 23,
      "outputs": []
    },
    {
      "cell_type": "code",
      "source": [
        "# Verisetlerimizi Oluşturalım\n",
        "window_size = 1\n",
        "train_X, train_Y = create_dataset(train, window_size)\n",
        "test_X, test_Y = create_dataset(test, window_size)\n",
        "print(\"Original training data shape:\")\n",
        "print(train_X.shape)"
      ],
      "metadata": {
        "colab": {
          "base_uri": "https://localhost:8080/"
        },
        "id": "m-CkrVpGw_ei",
        "outputId": "826df2fe-6df1-4194-fc90-c743a33b9d49"
      },
      "execution_count": 24,
      "outputs": [
        {
          "output_type": "stream",
          "name": "stdout",
          "text": [
            "Original training data shape:\n",
            "(1247, 1)\n"
          ]
        }
      ]
    },
    {
      "cell_type": "code",
      "source": [
        "# Yeni verisetinin şekline bakalım.\n",
        "train_X = np.reshape(train_X, (train_X.shape[0], 1, train_X.shape[1]))\n",
        "test_X = np.reshape(test_X, (test_X.shape[0], 1, test_X.shape[1]))\n",
        "print(\"New training data shape:\")\n",
        "print(train_X.shape)\n",
        "#bu şekilde üç kanal olmasının sebebi model eğitiminde kullanacağımız LSTM yapısından kaynaklanıyor"
      ],
      "metadata": {
        "colab": {
          "base_uri": "https://localhost:8080/"
        },
        "id": "FHiLMLTaxBQr",
        "outputId": "6910dbd5-e1cf-495e-95a5-263021cdbbee"
      },
      "execution_count": 25,
      "outputs": [
        {
          "output_type": "stream",
          "name": "stdout",
          "text": [
            "New training data shape:\n",
            "(1247, 1, 1)\n"
          ]
        }
      ]
    },
    {
      "cell_type": "code",
      "source": [
        "from sklearn.metrics import mean_squared_error\n",
        "from keras.models import Sequential\n",
        "from keras.layers import Dense, Dropout, Activation\n",
        "from keras.layers.recurrent import LSTM"
      ],
      "metadata": {
        "id": "BqYFT5KFxR99"
      },
      "execution_count": 26,
      "outputs": []
    },
    {
      "cell_type": "code",
      "source": [
        "def fit_model(train_X, train_Y, window_size = 1):\n",
        "    model = Sequential()\n",
        "    model.add(LSTM(100,input_shape = (1, window_size)))\n",
        "    model.add(Dropout(0.2))\n",
        "    model.add(Dense(1))\n",
        "    model.compile(loss = \"mean_squared_error\",optimizer = \"adam\")\n",
        "   #30 epoch yani 30 kere verisetine bakılacak.\n",
        "    model.fit(train_X, \n",
        "              train_Y, \n",
        "              epochs = 30, \n",
        "              batch_size = 1, \n",
        "              verbose = 1)\n",
        "    \n",
        "    return(model)"
      ],
      "metadata": {
        "id": "WRaWXujcxEDo"
      },
      "execution_count": 29,
      "outputs": []
    },
    {
      "cell_type": "code",
      "source": [
        "# Fit  model.\n",
        "model1 = fit_model(train_X, train_Y, window_size)"
      ],
      "metadata": {
        "colab": {
          "base_uri": "https://localhost:8080/"
        },
        "id": "J7vWpKFR02i7",
        "outputId": "22bfe2e0-2148-4e0f-bc40-d7c5254b9e49"
      },
      "execution_count": 30,
      "outputs": [
        {
          "output_type": "stream",
          "name": "stdout",
          "text": [
            "Epoch 1/30\n",
            "1247/1247 [==============================] - 8s 5ms/step - loss: 9.3730e-04\n",
            "Epoch 2/30\n",
            "1247/1247 [==============================] - 6s 5ms/step - loss: 7.0645e-05\n",
            "Epoch 3/30\n",
            "1247/1247 [==============================] - 6s 5ms/step - loss: 7.6247e-05\n",
            "Epoch 4/30\n",
            "1247/1247 [==============================] - 6s 5ms/step - loss: 7.0257e-05\n",
            "Epoch 5/30\n",
            "1247/1247 [==============================] - 6s 5ms/step - loss: 6.6008e-05\n",
            "Epoch 6/30\n",
            "1247/1247 [==============================] - 6s 5ms/step - loss: 6.1499e-05\n",
            "Epoch 7/30\n",
            "1247/1247 [==============================] - 6s 5ms/step - loss: 5.7517e-05\n",
            "Epoch 8/30\n",
            "1247/1247 [==============================] - 7s 6ms/step - loss: 5.7174e-05\n",
            "Epoch 9/30\n",
            "1247/1247 [==============================] - 6s 5ms/step - loss: 5.6304e-05\n",
            "Epoch 10/30\n",
            "1247/1247 [==============================] - 6s 5ms/step - loss: 5.8576e-05\n",
            "Epoch 11/30\n",
            "1247/1247 [==============================] - 6s 5ms/step - loss: 5.9753e-05\n",
            "Epoch 12/30\n",
            "1247/1247 [==============================] - 6s 5ms/step - loss: 5.4731e-05\n",
            "Epoch 13/30\n",
            "1247/1247 [==============================] - 6s 5ms/step - loss: 5.6835e-05\n",
            "Epoch 14/30\n",
            "1247/1247 [==============================] - 6s 5ms/step - loss: 5.8307e-05\n",
            "Epoch 15/30\n",
            "1247/1247 [==============================] - 6s 5ms/step - loss: 5.4938e-05\n",
            "Epoch 16/30\n",
            "1247/1247 [==============================] - 6s 5ms/step - loss: 5.4643e-05\n",
            "Epoch 17/30\n",
            "1247/1247 [==============================] - 6s 5ms/step - loss: 5.3884e-05\n",
            "Epoch 18/30\n",
            "1247/1247 [==============================] - 6s 5ms/step - loss: 5.1500e-05\n",
            "Epoch 19/30\n",
            "1247/1247 [==============================] - 6s 5ms/step - loss: 5.3452e-05\n",
            "Epoch 20/30\n",
            "1247/1247 [==============================] - 6s 5ms/step - loss: 5.5243e-05\n",
            "Epoch 21/30\n",
            "1247/1247 [==============================] - 6s 5ms/step - loss: 5.0490e-05\n",
            "Epoch 22/30\n",
            "1247/1247 [==============================] - 6s 5ms/step - loss: 5.3563e-05\n",
            "Epoch 23/30\n",
            "1247/1247 [==============================] - 6s 5ms/step - loss: 5.0274e-05\n",
            "Epoch 24/30\n",
            "1247/1247 [==============================] - 5s 4ms/step - loss: 5.2094e-05\n",
            "Epoch 25/30\n",
            "1247/1247 [==============================] - 5s 4ms/step - loss: 5.2787e-05\n",
            "Epoch 26/30\n",
            "1247/1247 [==============================] - 5s 4ms/step - loss: 5.4909e-05\n",
            "Epoch 27/30\n",
            "1247/1247 [==============================] - 5s 4ms/step - loss: 5.1987e-05\n",
            "Epoch 28/30\n",
            "1247/1247 [==============================] - 5s 4ms/step - loss: 5.1139e-05\n",
            "Epoch 29/30\n",
            "1247/1247 [==============================] - 5s 4ms/step - loss: 5.1284e-05\n",
            "Epoch 30/30\n",
            "1247/1247 [==============================] - 5s 4ms/step - loss: 4.7980e-05\n"
          ]
        }
      ]
    },
    {
      "cell_type": "code",
      "source": [
        "import math\n",
        "def predict_and_score(model, X, Y):\n",
        "    # Şimdi tahminleri 0-1 ile scale edilmiş halinden geri çeviriyoruz.\n",
        "    pred = scaler.inverse_transform(model.predict(X))\n",
        "    orig_data = scaler.inverse_transform([Y])\n",
        "    # Rmse değerlerini ölçüyoruz.\n",
        "    score = math.sqrt(mean_squared_error(orig_data[0], pred[:, 0]))\n",
        "    return(score, pred)\n"
      ],
      "metadata": {
        "id": "J2Ogo_g01EoD"
      },
      "execution_count": 31,
      "outputs": []
    },
    {
      "cell_type": "code",
      "source": [
        "rmse_train, train_predict = predict_and_score(model1, train_X, train_Y)\n",
        "\n",
        "rmse_test, test_predict = predict_and_score(model1, test_X, test_Y)\n",
        "\n",
        "print(\"Training data score: %.2f RMSE\" % rmse_train)\n",
        "print(\"Test data score: %.2f RMSE\" % rmse_test)"
      ],
      "metadata": {
        "colab": {
          "base_uri": "https://localhost:8080/"
        },
        "id": "kyHRLoeL1HAS",
        "outputId": "68009044-556c-4d09-dcd9-c018c850b9e1"
      },
      "execution_count": 32,
      "outputs": [
        {
          "output_type": "stream",
          "name": "stdout",
          "text": [
            "Training data score: 0.29 RMSE\n",
            "Test data score: 1.64 RMSE\n"
          ]
        }
      ]
    },
    {
      "cell_type": "code",
      "source": [
        "# Öğrendiklerinini tahminletip ekliyoruz.\n",
        "train_predict_plot = np.empty_like(dataset)\n",
        "train_predict_plot[:, :] = np.nan\n",
        "train_predict_plot[window_size:len(train_predict) + window_size, :] = train_predict"
      ],
      "metadata": {
        "id": "oLjc3Yfk2U6D"
      },
      "execution_count": 35,
      "outputs": []
    },
    {
      "cell_type": "code",
      "source": [
        "# Şimdi ise testleri tahminletiyoruz.\n",
        "test_predict_plot = np.empty_like(dataset)\n",
        "test_predict_plot[:, :] = np.nan\n",
        "test_predict_plot[len(train_predict) + (window_size * 2) + 1:len(dataset) - 1, :] = test_predict"
      ],
      "metadata": {
        "id": "PXs766Rq2VhX"
      },
      "execution_count": 36,
      "outputs": []
    },
    {
      "cell_type": "code",
      "source": [
        "\n",
        "\n",
        "# Plot'u oluşturalım.\n",
        "plt.figure(figsize = (15, 5))\n",
        "plt.plot(scaler.inverse_transform(dataset), label = \"True value\")\n",
        "plt.plot(train_predict_plot, label = \"Training set prediction\")\n",
        "plt.plot(test_predict_plot, label = \"Test set prediction\")\n",
        "plt.xlabel(\"Days\")\n",
        "plt.ylabel(\"Exchange Rates\")\n",
        "plt.title(\"Comparison true vs. predicted training / test\")\n",
        "plt.legend()\n",
        "plt.show()"
      ],
      "metadata": {
        "colab": {
          "base_uri": "https://localhost:8080/",
          "height": 350
        },
        "id": "L-vFVkQS2SeR",
        "outputId": "72c51923-b01e-4b3c-a8aa-025560baadb2"
      },
      "execution_count": 37,
      "outputs": [
        {
          "output_type": "display_data",
          "data": {
            "text/plain": [
              "<Figure size 1080x360 with 1 Axes>"
            ],
            "image/png": "[encoded data removed]"
          },
          "metadata": {
            "needs_background": "light"
          }
        }
      ]
    }
  ]
}