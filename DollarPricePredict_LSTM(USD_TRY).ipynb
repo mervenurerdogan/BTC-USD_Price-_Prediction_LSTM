{
  "nbformat": 4,
  "nbformat_minor": 0,
  "metadata": {
    "colab": {
      "name": "DollarPricePredict_LSTM(USD-TRY).ipynb",
      "provenance": [],
      "collapsed_sections": [],
      "mount_file_id": "1uYgzqdiSy0qozqUqyO13CQ8Ju_3lZvIG",
      "authorship_tag": "ABX9TyMgtogSZpFzH1GQd1WhLaUN",
      "include_colab_link": true
    },
    "kernelspec": {
      "name": "python3",
      "display_name": "Python 3"
    },
    "language_info": {
      "name": "python"
    }
  },
  "cells": [
    {
      "cell_type": "markdown",
      "metadata": {
        "id": "view-in-github",
        "colab_type": "text"
      },
      "source": [
        "<a href=\"https://colab.research.google.com/github/mervenurerdogan/BTC-USD_Price-_Prediction_LSTM/blob/main/DollarPricePredict_LSTM(USD_TRY).ipynb\" target=\"_parent\"><img src=\"https://colab.research.google.com/assets/colab-badge.svg\" alt=\"Open In Colab\"/></a>"
      ]
    },
    {
      "cell_type": "code",
      "execution_count": 1,
      "metadata": {
        "id": "yPs7k1A_tlW9"
      },
      "outputs": [],
      "source": [
        "import numpy as np\n",
        "import matplotlib.pyplot as plt\n",
        "import pandas as pd\n",
        "from sklearn.preprocessing import MinMaxScaler\n",
        "\n",
        "import matplotlib.pyplot as plt\n"
      ]
    },
    {
      "cell_type": "code",
      "source": [
        "dollar_path='/content/drive/MyDrive/USD_DATA/USD_DATASET.csv'"
      ],
      "metadata": {
        "id": "q2QOPdM2t0Hi"
      },
      "execution_count": 2,
      "outputs": []
    },
    {
      "cell_type": "code",
      "source": [
        "data=pd.read_csv(dollar_path, date_parser=True)"
      ],
      "metadata": {
        "id": "6jjP6_wuuCEC"
      },
      "execution_count": 3,
      "outputs": []
    },
    {
      "cell_type": "code",
      "source": [
        "data"
      ],
      "metadata": {
        "colab": {
          "base_uri": "https://localhost:8080/",
          "height": 423
        },
        "id": "VlYdBzMLuNDZ",
        "outputId": "489bc7db-c57e-49f3-c7fb-1161c131f8a0"
      },
      "execution_count": 4,
      "outputs": [
        {
          "output_type": "execute_result",
          "data": {
            "text/plain": [
              "            Date       Open       High       Low      Close  Adj Close  Volume\n",
              "0     2015-06-01   2.659610   2.683620   2.65808   2.659570   2.659570     0.0\n",
              "1     2015-06-02   2.680820   2.691290   2.67109   2.680820   2.680820     0.0\n",
              "2     2015-06-03   2.672820   2.690120   2.67163   2.672160   2.672160     0.0\n",
              "3     2015-06-04   2.684530   2.706000   2.65929   2.684530   2.684530     0.0\n",
              "4     2015-06-05   2.668580   2.690540   2.65590   2.668820   2.668820     0.0\n",
              "...          ...        ...        ...       ...        ...        ...     ...\n",
              "1823  2022-05-26  16.348000  16.448601  16.26090  16.348000  16.348000     0.0\n",
              "1824  2022-05-27  16.360701  16.399401  16.18000  16.360701  16.360701     0.0\n",
              "1825  2022-05-30  16.334299  16.391331  16.27807  16.334299  16.334299     0.0\n",
              "1826  2022-05-31  16.383499  16.427059  16.33099  16.383499  16.383499     0.0\n",
              "1827  2022-06-01  16.377729  16.454069  16.36426  16.377729  16.377729     0.0\n",
              "\n",
              "[1828 rows x 7 columns]"
            ],
            "text/html": [
              "\n",
              "  <div id=\"df-62a3f06e-d6bf-4ac0-9fa1-41cf3052de70\">\n",
              "    <div class=\"colab-df-container\">\n",
              "      <div>\n",
              "<style scoped>\n",
              "    .dataframe tbody tr th:only-of-type {\n",
              "        vertical-align: middle;\n",
              "    }\n",
              "\n",
              "    .dataframe tbody tr th {\n",
              "        vertical-align: top;\n",
              "    }\n",
              "\n",
              "    .dataframe thead th {\n",
              "        text-align: right;\n",
              "    }\n",
              "</style>\n",
              "<table border=\"1\" class=\"dataframe\">\n",
              "  <thead>\n",
              "    <tr style=\"text-align: right;\">\n",
              "      <th></th>\n",
              "      <th>Date</th>\n",
              "      <th>Open</th>\n",
              "      <th>High</th>\n",
              "      <th>Low</th>\n",
              "      <th>Close</th>\n",
              "      <th>Adj Close</th>\n",
              "      <th>Volume</th>\n",
              "    </tr>\n",
              "  </thead>\n",
              "  <tbody>\n",
              "    <tr>\n",
              "      <th>0</th>\n",
              "      <td>2015-06-01</td>\n",
              "      <td>2.659610</td>\n",
              "      <td>2.683620</td>\n",
              "      <td>2.65808</td>\n",
              "      <td>2.659570</td>\n",
              "      <td>2.659570</td>\n",
              "      <td>0.0</td>\n",
              "    </tr>\n",
              "    <tr>\n",
              "      <th>1</th>\n",
              "      <td>2015-06-02</td>\n",
              "      <td>2.680820</td>\n",
              "      <td>2.691290</td>\n",
              "      <td>2.67109</td>\n",
              "      <td>2.680820</td>\n",
              "      <td>2.680820</td>\n",
              "      <td>0.0</td>\n",
              "    </tr>\n",
              "    <tr>\n",
              "      <th>2</th>\n",
              "      <td>2015-06-03</td>\n",
              "      <td>2.672820</td>\n",
              "      <td>2.690120</td>\n",
              "      <td>2.67163</td>\n",
              "      <td>2.672160</td>\n",
              "      <td>2.672160</td>\n",
              "      <td>0.0</td>\n",
              "    </tr>\n",
              "    <tr>\n",
              "      <th>3</th>\n",
              "      <td>2015-06-04</td>\n",
              "      <td>2.684530</td>\n",
              "      <td>2.706000</td>\n",
              "      <td>2.65929</td>\n",
              "      <td>2.684530</td>\n",
              "      <td>2.684530</td>\n",
              "      <td>0.0</td>\n",
              "    </tr>\n",
              "    <tr>\n",
              "      <th>4</th>\n",
              "      <td>2015-06-05</td>\n",
              "      <td>2.668580</td>\n",
              "      <td>2.690540</td>\n",
              "      <td>2.65590</td>\n",
              "      <td>2.668820</td>\n",
              "      <td>2.668820</td>\n",
              "      <td>0.0</td>\n",
              "    </tr>\n",
              "    <tr>\n",
              "      <th>...</th>\n",
              "      <td>...</td>\n",
              "      <td>...</td>\n",
              "      <td>...</td>\n",
              "      <td>...</td>\n",
              "      <td>...</td>\n",
              "      <td>...</td>\n",
              "      <td>...</td>\n",
              "    </tr>\n",
              "    <tr>\n",
              "      <th>1823</th>\n",
              "      <td>2022-05-26</td>\n",
              "      <td>16.348000</td>\n",
              "      <td>16.448601</td>\n",
              "      <td>16.26090</td>\n",
              "      <td>16.348000</td>\n",
              "      <td>16.348000</td>\n",
              "      <td>0.0</td>\n",
              "    </tr>\n",
              "    <tr>\n",
              "      <th>1824</th>\n",
              "      <td>2022-05-27</td>\n",
              "      <td>16.360701</td>\n",
              "      <td>16.399401</td>\n",
              "      <td>16.18000</td>\n",
              "      <td>16.360701</td>\n",
              "      <td>16.360701</td>\n",
              "      <td>0.0</td>\n",
              "    </tr>\n",
              "    <tr>\n",
              "      <th>1825</th>\n",
              "      <td>2022-05-30</td>\n",
              "      <td>16.334299</td>\n",
              "      <td>16.391331</td>\n",
              "      <td>16.27807</td>\n",
              "      <td>16.334299</td>\n",
              "      <td>16.334299</td>\n",
              "      <td>0.0</td>\n",
              "    </tr>\n",
              "    <tr>\n",
              "      <th>1826</th>\n",
              "      <td>2022-05-31</td>\n",
              "      <td>16.383499</td>\n",
              "      <td>16.427059</td>\n",
              "      <td>16.33099</td>\n",
              "      <td>16.383499</td>\n",
              "      <td>16.383499</td>\n",
              "      <td>0.0</td>\n",
              "    </tr>\n",
              "    <tr>\n",
              "      <th>1827</th>\n",
              "      <td>2022-06-01</td>\n",
              "      <td>16.377729</td>\n",
              "      <td>16.454069</td>\n",
              "      <td>16.36426</td>\n",
              "      <td>16.377729</td>\n",
              "      <td>16.377729</td>\n",
              "      <td>0.0</td>\n",
              "    </tr>\n",
              "  </tbody>\n",
              "</table>\n",
              "<p>1828 rows × 7 columns</p>\n",
              "</div>\n",
              "      <button class=\"colab-df-convert\" onclick=\"convertToInteractive('df-62a3f06e-d6bf-4ac0-9fa1-41cf3052de70')\"\n",
              "              title=\"Convert this dataframe to an interactive table.\"\n",
              "              style=\"display:none;\">\n",
              "        \n",
              "  <svg xmlns=\"http://www.w3.org/2000/svg\" height=\"24px\"viewBox=\"0 0 24 24\"\n",
              "       width=\"24px\">\n",
              "    <path d=\"M0 0h24v24H0V0z\" fill=\"none\"/>\n",
              "    <path d=\"M18.56 5.44l.94 2.06.94-2.06 2.06-.94-2.06-.94-.94-2.06-.94 2.06-2.06.94zm-11 1L8.5 8.5l.94-2.06 2.06-.94-2.06-.94L8.5 2.5l-.94 2.06-2.06.94zm10 10l.94 2.06.94-2.06 2.06-.94-2.06-.94-.94-2.06-.94 2.06-2.06.94z\"/><path d=\"M17.41 7.96l-1.37-1.37c-.4-.4-.92-.59-1.43-.59-.52 0-1.04.2-1.43.59L10.3 9.45l-7.72 7.72c-.78.78-.78 2.05 0 2.83L4 21.41c.39.39.9.59 1.41.59.51 0 1.02-.2 1.41-.59l7.78-7.78 2.81-2.81c.8-.78.8-2.07 0-2.86zM5.41 20L4 18.59l7.72-7.72 1.47 1.35L5.41 20z\"/>\n",
              "  </svg>\n",
              "      </button>\n",
              "      \n",
              "  <style>\n",
              "    .colab-df-container {\n",
              "      display:flex;\n",
              "      flex-wrap:wrap;\n",
              "      gap: 12px;\n",
              "    }\n",
              "\n",
              "    .colab-df-convert {\n",
              "      background-color: #E8F0FE;\n",
              "      border: none;\n",
              "      border-radius: 50%;\n",
              "      cursor: pointer;\n",
              "      display: none;\n",
              "      fill: #1967D2;\n",
              "      height: 32px;\n",
              "      padding: 0 0 0 0;\n",
              "      width: 32px;\n",
              "    }\n",
              "\n",
              "    .colab-df-convert:hover {\n",
              "      background-color: #E2EBFA;\n",
              "      box-shadow: 0px 1px 2px rgba(60, 64, 67, 0.3), 0px 1px 3px 1px rgba(60, 64, 67, 0.15);\n",
              "      fill: #174EA6;\n",
              "    }\n",
              "\n",
              "    [theme=dark] .colab-df-convert {\n",
              "      background-color: #3B4455;\n",
              "      fill: #D2E3FC;\n",
              "    }\n",
              "\n",
              "    [theme=dark] .colab-df-convert:hover {\n",
              "      background-color: #434B5C;\n",
              "      box-shadow: 0px 1px 3px 1px rgba(0, 0, 0, 0.15);\n",
              "      filter: drop-shadow(0px 1px 2px rgba(0, 0, 0, 0.3));\n",
              "      fill: #FFFFFF;\n",
              "    }\n",
              "  </style>\n",
              "\n",
              "      <script>\n",
              "        const buttonEl =\n",
              "          document.querySelector('#df-62a3f06e-d6bf-4ac0-9fa1-41cf3052de70 button.colab-df-convert');\n",
              "        buttonEl.style.display =\n",
              "          google.colab.kernel.accessAllowed ? 'block' : 'none';\n",
              "\n",
              "        async function convertToInteractive(key) {\n",
              "          const element = document.querySelector('#df-62a3f06e-d6bf-4ac0-9fa1-41cf3052de70');\n",
              "          const dataTable =\n",
              "            await google.colab.kernel.invokeFunction('convertToInteractive',\n",
              "                                                     [key], {});\n",
              "          if (!dataTable) return;\n",
              "\n",
              "          const docLinkHtml = 'Like what you see? Visit the ' +\n",
              "            '<a target=\"_blank\" href=https://colab.research.google.com/notebooks/data_table.ipynb>data table notebook</a>'\n",
              "            + ' to learn more about interactive tables.';\n",
              "          element.innerHTML = '';\n",
              "          dataTable['output_type'] = 'display_data';\n",
              "          await google.colab.output.renderOutput(dataTable, element);\n",
              "          const docLink = document.createElement('div');\n",
              "          docLink.innerHTML = docLinkHtml;\n",
              "          element.appendChild(docLink);\n",
              "        }\n",
              "      </script>\n",
              "    </div>\n",
              "  </div>\n",
              "  "
            ]
          },
          "metadata": {},
          "execution_count": 4
        }
      ]
    },
    {
      "cell_type": "code",
      "source": [
        "data.head()"
      ],
      "metadata": {
        "colab": {
          "base_uri": "https://localhost:8080/",
          "height": 206
        },
        "id": "qEuvyZ-OuNeD",
        "outputId": "58f9722a-2d1d-4c44-8a6a-695ad6125815"
      },
      "execution_count": 5,
      "outputs": [
        {
          "output_type": "execute_result",
          "data": {
            "text/plain": [
              "         Date     Open     High      Low    Close  Adj Close  Volume\n",
              "0  2015-06-01  2.65961  2.68362  2.65808  2.65957    2.65957     0.0\n",
              "1  2015-06-02  2.68082  2.69129  2.67109  2.68082    2.68082     0.0\n",
              "2  2015-06-03  2.67282  2.69012  2.67163  2.67216    2.67216     0.0\n",
              "3  2015-06-04  2.68453  2.70600  2.65929  2.68453    2.68453     0.0\n",
              "4  2015-06-05  2.66858  2.69054  2.65590  2.66882    2.66882     0.0"
            ],
            "text/html": [
              "\n",
              "  <div id=\"df-b803f106-2d2b-4566-8fd8-058201085b1b\">\n",
              "    <div class=\"colab-df-container\">\n",
              "      <div>\n",
              "<style scoped>\n",
              "    .dataframe tbody tr th:only-of-type {\n",
              "        vertical-align: middle;\n",
              "    }\n",
              "\n",
              "    .dataframe tbody tr th {\n",
              "        vertical-align: top;\n",
              "    }\n",
              "\n",
              "    .dataframe thead th {\n",
              "        text-align: right;\n",
              "    }\n",
              "</style>\n",
              "<table border=\"1\" class=\"dataframe\">\n",
              "  <thead>\n",
              "    <tr style=\"text-align: right;\">\n",
              "      <th></th>\n",
              "      <th>Date</th>\n",
              "      <th>Open</th>\n",
              "      <th>High</th>\n",
              "      <th>Low</th>\n",
              "      <th>Close</th>\n",
              "      <th>Adj Close</th>\n",
              "      <th>Volume</th>\n",
              "    </tr>\n",
              "  </thead>\n",
              "  <tbody>\n",
              "    <tr>\n",
              "      <th>0</th>\n",
              "      <td>2015-06-01</td>\n",
              "      <td>2.65961</td>\n",
              "      <td>2.68362</td>\n",
              "      <td>2.65808</td>\n",
              "      <td>2.65957</td>\n",
              "      <td>2.65957</td>\n",
              "      <td>0.0</td>\n",
              "    </tr>\n",
              "    <tr>\n",
              "      <th>1</th>\n",
              "      <td>2015-06-02</td>\n",
              "      <td>2.68082</td>\n",
              "      <td>2.69129</td>\n",
              "      <td>2.67109</td>\n",
              "      <td>2.68082</td>\n",
              "      <td>2.68082</td>\n",
              "      <td>0.0</td>\n",
              "    </tr>\n",
              "    <tr>\n",
              "      <th>2</th>\n",
              "      <td>2015-06-03</td>\n",
              "      <td>2.67282</td>\n",
              "      <td>2.69012</td>\n",
              "      <td>2.67163</td>\n",
              "      <td>2.67216</td>\n",
              "      <td>2.67216</td>\n",
              "      <td>0.0</td>\n",
              "    </tr>\n",
              "    <tr>\n",
              "      <th>3</th>\n",
              "      <td>2015-06-04</td>\n",
              "      <td>2.68453</td>\n",
              "      <td>2.70600</td>\n",
              "      <td>2.65929</td>\n",
              "      <td>2.68453</td>\n",
              "      <td>2.68453</td>\n",
              "      <td>0.0</td>\n",
              "    </tr>\n",
              "    <tr>\n",
              "      <th>4</th>\n",
              "      <td>2015-06-05</td>\n",
              "      <td>2.66858</td>\n",
              "      <td>2.69054</td>\n",
              "      <td>2.65590</td>\n",
              "      <td>2.66882</td>\n",
              "      <td>2.66882</td>\n",
              "      <td>0.0</td>\n",
              "    </tr>\n",
              "  </tbody>\n",
              "</table>\n",
              "</div>\n",
              "      <button class=\"colab-df-convert\" onclick=\"convertToInteractive('df-b803f106-2d2b-4566-8fd8-058201085b1b')\"\n",
              "              title=\"Convert this dataframe to an interactive table.\"\n",
              "              style=\"display:none;\">\n",
              "        \n",
              "  <svg xmlns=\"http://www.w3.org/2000/svg\" height=\"24px\"viewBox=\"0 0 24 24\"\n",
              "       width=\"24px\">\n",
              "    <path d=\"M0 0h24v24H0V0z\" fill=\"none\"/>\n",
              "    <path d=\"M18.56 5.44l.94 2.06.94-2.06 2.06-.94-2.06-.94-.94-2.06-.94 2.06-2.06.94zm-11 1L8.5 8.5l.94-2.06 2.06-.94-2.06-.94L8.5 2.5l-.94 2.06-2.06.94zm10 10l.94 2.06.94-2.06 2.06-.94-2.06-.94-.94-2.06-.94 2.06-2.06.94z\"/><path d=\"M17.41 7.96l-1.37-1.37c-.4-.4-.92-.59-1.43-.59-.52 0-1.04.2-1.43.59L10.3 9.45l-7.72 7.72c-.78.78-.78 2.05 0 2.83L4 21.41c.39.39.9.59 1.41.59.51 0 1.02-.2 1.41-.59l7.78-7.78 2.81-2.81c.8-.78.8-2.07 0-2.86zM5.41 20L4 18.59l7.72-7.72 1.47 1.35L5.41 20z\"/>\n",
              "  </svg>\n",
              "      </button>\n",
              "      \n",
              "  <style>\n",
              "    .colab-df-container {\n",
              "      display:flex;\n",
              "      flex-wrap:wrap;\n",
              "      gap: 12px;\n",
              "    }\n",
              "\n",
              "    .colab-df-convert {\n",
              "      background-color: #E8F0FE;\n",
              "      border: none;\n",
              "      border-radius: 50%;\n",
              "      cursor: pointer;\n",
              "      display: none;\n",
              "      fill: #1967D2;\n",
              "      height: 32px;\n",
              "      padding: 0 0 0 0;\n",
              "      width: 32px;\n",
              "    }\n",
              "\n",
              "    .colab-df-convert:hover {\n",
              "      background-color: #E2EBFA;\n",
              "      box-shadow: 0px 1px 2px rgba(60, 64, 67, 0.3), 0px 1px 3px 1px rgba(60, 64, 67, 0.15);\n",
              "      fill: #174EA6;\n",
              "    }\n",
              "\n",
              "    [theme=dark] .colab-df-convert {\n",
              "      background-color: #3B4455;\n",
              "      fill: #D2E3FC;\n",
              "    }\n",
              "\n",
              "    [theme=dark] .colab-df-convert:hover {\n",
              "      background-color: #434B5C;\n",
              "      box-shadow: 0px 1px 3px 1px rgba(0, 0, 0, 0.15);\n",
              "      filter: drop-shadow(0px 1px 2px rgba(0, 0, 0, 0.3));\n",
              "      fill: #FFFFFF;\n",
              "    }\n",
              "  </style>\n",
              "\n",
              "      <script>\n",
              "        const buttonEl =\n",
              "          document.querySelector('#df-b803f106-2d2b-4566-8fd8-058201085b1b button.colab-df-convert');\n",
              "        buttonEl.style.display =\n",
              "          google.colab.kernel.accessAllowed ? 'block' : 'none';\n",
              "\n",
              "        async function convertToInteractive(key) {\n",
              "          const element = document.querySelector('#df-b803f106-2d2b-4566-8fd8-058201085b1b');\n",
              "          const dataTable =\n",
              "            await google.colab.kernel.invokeFunction('convertToInteractive',\n",
              "                                                     [key], {});\n",
              "          if (!dataTable) return;\n",
              "\n",
              "          const docLinkHtml = 'Like what you see? Visit the ' +\n",
              "            '<a target=\"_blank\" href=https://colab.research.google.com/notebooks/data_table.ipynb>data table notebook</a>'\n",
              "            + ' to learn more about interactive tables.';\n",
              "          element.innerHTML = '';\n",
              "          dataTable['output_type'] = 'display_data';\n",
              "          await google.colab.output.renderOutput(dataTable, element);\n",
              "          const docLink = document.createElement('div');\n",
              "          docLink.innerHTML = docLinkHtml;\n",
              "          element.appendChild(docLink);\n",
              "        }\n",
              "      </script>\n",
              "    </div>\n",
              "  </div>\n",
              "  "
            ]
          },
          "metadata": {},
          "execution_count": 5
        }
      ]
    },
    {
      "cell_type": "code",
      "source": [
        "data.tail()"
      ],
      "metadata": {
        "colab": {
          "base_uri": "https://localhost:8080/",
          "height": 206
        },
        "id": "6eecUByKuQs3",
        "outputId": "e2c79c2a-6e5e-40dc-be25-585ba51c8a8c"
      },
      "execution_count": 6,
      "outputs": [
        {
          "output_type": "execute_result",
          "data": {
            "text/plain": [
              "            Date       Open       High       Low      Close  Adj Close  Volume\n",
              "1823  2022-05-26  16.348000  16.448601  16.26090  16.348000  16.348000     0.0\n",
              "1824  2022-05-27  16.360701  16.399401  16.18000  16.360701  16.360701     0.0\n",
              "1825  2022-05-30  16.334299  16.391331  16.27807  16.334299  16.334299     0.0\n",
              "1826  2022-05-31  16.383499  16.427059  16.33099  16.383499  16.383499     0.0\n",
              "1827  2022-06-01  16.377729  16.454069  16.36426  16.377729  16.377729     0.0"
            ],
            "text/html": [
              "\n",
              "  <div id=\"df-66996783-1b97-430a-ab95-3682b82c8040\">\n",
              "    <div class=\"colab-df-container\">\n",
              "      <div>\n",
              "<style scoped>\n",
              "    .dataframe tbody tr th:only-of-type {\n",
              "        vertical-align: middle;\n",
              "    }\n",
              "\n",
              "    .dataframe tbody tr th {\n",
              "        vertical-align: top;\n",
              "    }\n",
              "\n",
              "    .dataframe thead th {\n",
              "        text-align: right;\n",
              "    }\n",
              "</style>\n",
              "<table border=\"1\" class=\"dataframe\">\n",
              "  <thead>\n",
              "    <tr style=\"text-align: right;\">\n",
              "      <th></th>\n",
              "      <th>Date</th>\n",
              "      <th>Open</th>\n",
              "      <th>High</th>\n",
              "      <th>Low</th>\n",
              "      <th>Close</th>\n",
              "      <th>Adj Close</th>\n",
              "      <th>Volume</th>\n",
              "    </tr>\n",
              "  </thead>\n",
              "  <tbody>\n",
              "    <tr>\n",
              "      <th>1823</th>\n",
              "      <td>2022-05-26</td>\n",
              "      <td>16.348000</td>\n",
              "      <td>16.448601</td>\n",
              "      <td>16.26090</td>\n",
              "      <td>16.348000</td>\n",
              "      <td>16.348000</td>\n",
              "      <td>0.0</td>\n",
              "    </tr>\n",
              "    <tr>\n",
              "      <th>1824</th>\n",
              "      <td>2022-05-27</td>\n",
              "      <td>16.360701</td>\n",
              "      <td>16.399401</td>\n",
              "      <td>16.18000</td>\n",
              "      <td>16.360701</td>\n",
              "      <td>16.360701</td>\n",
              "      <td>0.0</td>\n",
              "    </tr>\n",
              "    <tr>\n",
              "      <th>1825</th>\n",
              "      <td>2022-05-30</td>\n",
              "      <td>16.334299</td>\n",
              "      <td>16.391331</td>\n",
              "      <td>16.27807</td>\n",
              "      <td>16.334299</td>\n",
              "      <td>16.334299</td>\n",
              "      <td>0.0</td>\n",
              "    </tr>\n",
              "    <tr>\n",
              "      <th>1826</th>\n",
              "      <td>2022-05-31</td>\n",
              "      <td>16.383499</td>\n",
              "      <td>16.427059</td>\n",
              "      <td>16.33099</td>\n",
              "      <td>16.383499</td>\n",
              "      <td>16.383499</td>\n",
              "      <td>0.0</td>\n",
              "    </tr>\n",
              "    <tr>\n",
              "      <th>1827</th>\n",
              "      <td>2022-06-01</td>\n",
              "      <td>16.377729</td>\n",
              "      <td>16.454069</td>\n",
              "      <td>16.36426</td>\n",
              "      <td>16.377729</td>\n",
              "      <td>16.377729</td>\n",
              "      <td>0.0</td>\n",
              "    </tr>\n",
              "  </tbody>\n",
              "</table>\n",
              "</div>\n",
              "      <button class=\"colab-df-convert\" onclick=\"convertToInteractive('df-66996783-1b97-430a-ab95-3682b82c8040')\"\n",
              "              title=\"Convert this dataframe to an interactive table.\"\n",
              "              style=\"display:none;\">\n",
              "        \n",
              "  <svg xmlns=\"http://www.w3.org/2000/svg\" height=\"24px\"viewBox=\"0 0 24 24\"\n",
              "       width=\"24px\">\n",
              "    <path d=\"M0 0h24v24H0V0z\" fill=\"none\"/>\n",
              "    <path d=\"M18.56 5.44l.94 2.06.94-2.06 2.06-.94-2.06-.94-.94-2.06-.94 2.06-2.06.94zm-11 1L8.5 8.5l.94-2.06 2.06-.94-2.06-.94L8.5 2.5l-.94 2.06-2.06.94zm10 10l.94 2.06.94-2.06 2.06-.94-2.06-.94-.94-2.06-.94 2.06-2.06.94z\"/><path d=\"M17.41 7.96l-1.37-1.37c-.4-.4-.92-.59-1.43-.59-.52 0-1.04.2-1.43.59L10.3 9.45l-7.72 7.72c-.78.78-.78 2.05 0 2.83L4 21.41c.39.39.9.59 1.41.59.51 0 1.02-.2 1.41-.59l7.78-7.78 2.81-2.81c.8-.78.8-2.07 0-2.86zM5.41 20L4 18.59l7.72-7.72 1.47 1.35L5.41 20z\"/>\n",
              "  </svg>\n",
              "      </button>\n",
              "      \n",
              "  <style>\n",
              "    .colab-df-container {\n",
              "      display:flex;\n",
              "      flex-wrap:wrap;\n",
              "      gap: 12px;\n",
              "    }\n",
              "\n",
              "    .colab-df-convert {\n",
              "      background-color: #E8F0FE;\n",
              "      border: none;\n",
              "      border-radius: 50%;\n",
              "      cursor: pointer;\n",
              "      display: none;\n",
              "      fill: #1967D2;\n",
              "      height: 32px;\n",
              "      padding: 0 0 0 0;\n",
              "      width: 32px;\n",
              "    }\n",
              "\n",
              "    .colab-df-convert:hover {\n",
              "      background-color: #E2EBFA;\n",
              "      box-shadow: 0px 1px 2px rgba(60, 64, 67, 0.3), 0px 1px 3px 1px rgba(60, 64, 67, 0.15);\n",
              "      fill: #174EA6;\n",
              "    }\n",
              "\n",
              "    [theme=dark] .colab-df-convert {\n",
              "      background-color: #3B4455;\n",
              "      fill: #D2E3FC;\n",
              "    }\n",
              "\n",
              "    [theme=dark] .colab-df-convert:hover {\n",
              "      background-color: #434B5C;\n",
              "      box-shadow: 0px 1px 3px 1px rgba(0, 0, 0, 0.15);\n",
              "      filter: drop-shadow(0px 1px 2px rgba(0, 0, 0, 0.3));\n",
              "      fill: #FFFFFF;\n",
              "    }\n",
              "  </style>\n",
              "\n",
              "      <script>\n",
              "        const buttonEl =\n",
              "          document.querySelector('#df-66996783-1b97-430a-ab95-3682b82c8040 button.colab-df-convert');\n",
              "        buttonEl.style.display =\n",
              "          google.colab.kernel.accessAllowed ? 'block' : 'none';\n",
              "\n",
              "        async function convertToInteractive(key) {\n",
              "          const element = document.querySelector('#df-66996783-1b97-430a-ab95-3682b82c8040');\n",
              "          const dataTable =\n",
              "            await google.colab.kernel.invokeFunction('convertToInteractive',\n",
              "                                                     [key], {});\n",
              "          if (!dataTable) return;\n",
              "\n",
              "          const docLinkHtml = 'Like what you see? Visit the ' +\n",
              "            '<a target=\"_blank\" href=https://colab.research.google.com/notebooks/data_table.ipynb>data table notebook</a>'\n",
              "            + ' to learn more about interactive tables.';\n",
              "          element.innerHTML = '';\n",
              "          dataTable['output_type'] = 'display_data';\n",
              "          await google.colab.output.renderOutput(dataTable, element);\n",
              "          const docLink = document.createElement('div');\n",
              "          docLink.innerHTML = docLinkHtml;\n",
              "          element.appendChild(docLink);\n",
              "        }\n",
              "      </script>\n",
              "    </div>\n",
              "  </div>\n",
              "  "
            ]
          },
          "metadata": {},
          "execution_count": 6
        }
      ]
    },
    {
      "cell_type": "code",
      "source": [
        "data.info()"
      ],
      "metadata": {
        "colab": {
          "base_uri": "https://localhost:8080/"
        },
        "id": "Nlql5HQOuScJ",
        "outputId": "5145c252-e6bc-4149-8523-e4435073a3cc"
      },
      "execution_count": 7,
      "outputs": [
        {
          "output_type": "stream",
          "name": "stdout",
          "text": [
            "<class 'pandas.core.frame.DataFrame'>\n",
            "RangeIndex: 1828 entries, 0 to 1827\n",
            "Data columns (total 7 columns):\n",
            " #   Column     Non-Null Count  Dtype  \n",
            "---  ------     --------------  -----  \n",
            " 0   Date       1828 non-null   object \n",
            " 1   Open       1825 non-null   float64\n",
            " 2   High       1825 non-null   float64\n",
            " 3   Low        1825 non-null   float64\n",
            " 4   Close      1825 non-null   float64\n",
            " 5   Adj Close  1825 non-null   float64\n",
            " 6   Volume     1825 non-null   float64\n",
            "dtypes: float64(6), object(1)\n",
            "memory usage: 100.1+ KB\n"
          ]
        }
      ]
    },
    {
      "cell_type": "code",
      "source": [
        "data.describe()"
      ],
      "metadata": {
        "colab": {
          "base_uri": "https://localhost:8080/",
          "height": 300
        },
        "id": "dhTxfsZwuTiv",
        "outputId": "a20e7de8-15b5-4150-b8d3-7c6579371c5d"
      },
      "execution_count": 8,
      "outputs": [
        {
          "output_type": "execute_result",
          "data": {
            "text/plain": [
              "              Open         High          Low        Close    Adj Close  Volume\n",
              "count  1825.000000  1825.000000  1825.000000  1825.000000  1825.000000  1825.0\n",
              "mean      5.818249     5.866712     5.782637     5.818709     5.818709     0.0\n",
              "std       3.042066     3.087020     3.017117     3.042291     3.042291     0.0\n",
              "min       2.631230     2.649250     2.627330     2.631320     2.631320     0.0\n",
              "25%       3.524200     3.538700     3.512900     3.524310     3.524310     0.0\n",
              "50%       5.432230     5.472980     5.399330     5.432240     5.432240     0.0\n",
              "75%       7.196720     7.287850     7.124630     7.197080     7.197080     0.0\n",
              "max      16.603380    18.352301    16.590891    16.608980    16.608980     0.0"
            ],
            "text/html": [
              "\n",
              "  <div id=\"df-3068464a-f734-43ec-8a41-8bf2c7d3d5aa\">\n",
              "    <div class=\"colab-df-container\">\n",
              "      <div>\n",
              "<style scoped>\n",
              "    .dataframe tbody tr th:only-of-type {\n",
              "        vertical-align: middle;\n",
              "    }\n",
              "\n",
              "    .dataframe tbody tr th {\n",
              "        vertical-align: top;\n",
              "    }\n",
              "\n",
              "    .dataframe thead th {\n",
              "        text-align: right;\n",
              "    }\n",
              "</style>\n",
              "<table border=\"1\" class=\"dataframe\">\n",
              "  <thead>\n",
              "    <tr style=\"text-align: right;\">\n",
              "      <th></th>\n",
              "      <th>Open</th>\n",
              "      <th>High</th>\n",
              "      <th>Low</th>\n",
              "      <th>Close</th>\n",
              "      <th>Adj Close</th>\n",
              "      <th>Volume</th>\n",
              "    </tr>\n",
              "  </thead>\n",
              "  <tbody>\n",
              "    <tr>\n",
              "      <th>count</th>\n",
              "      <td>1825.000000</td>\n",
              "      <td>1825.000000</td>\n",
              "      <td>1825.000000</td>\n",
              "      <td>1825.000000</td>\n",
              "      <td>1825.000000</td>\n",
              "      <td>1825.0</td>\n",
              "    </tr>\n",
              "    <tr>\n",
              "      <th>mean</th>\n",
              "      <td>5.818249</td>\n",
              "      <td>5.866712</td>\n",
              "      <td>5.782637</td>\n",
              "      <td>5.818709</td>\n",
              "      <td>5.818709</td>\n",
              "      <td>0.0</td>\n",
              "    </tr>\n",
              "    <tr>\n",
              "      <th>std</th>\n",
              "      <td>3.042066</td>\n",
              "      <td>3.087020</td>\n",
              "      <td>3.017117</td>\n",
              "      <td>3.042291</td>\n",
              "      <td>3.042291</td>\n",
              "      <td>0.0</td>\n",
              "    </tr>\n",
              "    <tr>\n",
              "      <th>min</th>\n",
              "      <td>2.631230</td>\n",
              "      <td>2.649250</td>\n",
              "      <td>2.627330</td>\n",
              "      <td>2.631320</td>\n",
              "      <td>2.631320</td>\n",
              "      <td>0.0</td>\n",
              "    </tr>\n",
              "    <tr>\n",
              "      <th>25%</th>\n",
              "      <td>3.524200</td>\n",
              "      <td>3.538700</td>\n",
              "      <td>3.512900</td>\n",
              "      <td>3.524310</td>\n",
              "      <td>3.524310</td>\n",
              "      <td>0.0</td>\n",
              "    </tr>\n",
              "    <tr>\n",
              "      <th>50%</th>\n",
              "      <td>5.432230</td>\n",
              "      <td>5.472980</td>\n",
              "      <td>5.399330</td>\n",
              "      <td>5.432240</td>\n",
              "      <td>5.432240</td>\n",
              "      <td>0.0</td>\n",
              "    </tr>\n",
              "    <tr>\n",
              "      <th>75%</th>\n",
              "      <td>7.196720</td>\n",
              "      <td>7.287850</td>\n",
              "      <td>7.124630</td>\n",
              "      <td>7.197080</td>\n",
              "      <td>7.197080</td>\n",
              "      <td>0.0</td>\n",
              "    </tr>\n",
              "    <tr>\n",
              "      <th>max</th>\n",
              "      <td>16.603380</td>\n",
              "      <td>18.352301</td>\n",
              "      <td>16.590891</td>\n",
              "      <td>16.608980</td>\n",
              "      <td>16.608980</td>\n",
              "      <td>0.0</td>\n",
              "    </tr>\n",
              "  </tbody>\n",
              "</table>\n",
              "</div>\n",
              "      <button class=\"colab-df-convert\" onclick=\"convertToInteractive('df-3068464a-f734-43ec-8a41-8bf2c7d3d5aa')\"\n",
              "              title=\"Convert this dataframe to an interactive table.\"\n",
              "              style=\"display:none;\">\n",
              "        \n",
              "  <svg xmlns=\"http://www.w3.org/2000/svg\" height=\"24px\"viewBox=\"0 0 24 24\"\n",
              "       width=\"24px\">\n",
              "    <path d=\"M0 0h24v24H0V0z\" fill=\"none\"/>\n",
              "    <path d=\"M18.56 5.44l.94 2.06.94-2.06 2.06-.94-2.06-.94-.94-2.06-.94 2.06-2.06.94zm-11 1L8.5 8.5l.94-2.06 2.06-.94-2.06-.94L8.5 2.5l-.94 2.06-2.06.94zm10 10l.94 2.06.94-2.06 2.06-.94-2.06-.94-.94-2.06-.94 2.06-2.06.94z\"/><path d=\"M17.41 7.96l-1.37-1.37c-.4-.4-.92-.59-1.43-.59-.52 0-1.04.2-1.43.59L10.3 9.45l-7.72 7.72c-.78.78-.78 2.05 0 2.83L4 21.41c.39.39.9.59 1.41.59.51 0 1.02-.2 1.41-.59l7.78-7.78 2.81-2.81c.8-.78.8-2.07 0-2.86zM5.41 20L4 18.59l7.72-7.72 1.47 1.35L5.41 20z\"/>\n",
              "  </svg>\n",
              "      </button>\n",
              "      \n",
              "  <style>\n",
              "    .colab-df-container {\n",
              "      display:flex;\n",
              "      flex-wrap:wrap;\n",
              "      gap: 12px;\n",
              "    }\n",
              "\n",
              "    .colab-df-convert {\n",
              "      background-color: #E8F0FE;\n",
              "      border: none;\n",
              "      border-radius: 50%;\n",
              "      cursor: pointer;\n",
              "      display: none;\n",
              "      fill: #1967D2;\n",
              "      height: 32px;\n",
              "      padding: 0 0 0 0;\n",
              "      width: 32px;\n",
              "    }\n",
              "\n",
              "    .colab-df-convert:hover {\n",
              "      background-color: #E2EBFA;\n",
              "      box-shadow: 0px 1px 2px rgba(60, 64, 67, 0.3), 0px 1px 3px 1px rgba(60, 64, 67, 0.15);\n",
              "      fill: #174EA6;\n",
              "    }\n",
              "\n",
              "    [theme=dark] .colab-df-convert {\n",
              "      background-color: #3B4455;\n",
              "      fill: #D2E3FC;\n",
              "    }\n",
              "\n",
              "    [theme=dark] .colab-df-convert:hover {\n",
              "      background-color: #434B5C;\n",
              "      box-shadow: 0px 1px 3px 1px rgba(0, 0, 0, 0.15);\n",
              "      filter: drop-shadow(0px 1px 2px rgba(0, 0, 0, 0.3));\n",
              "      fill: #FFFFFF;\n",
              "    }\n",
              "  </style>\n",
              "\n",
              "      <script>\n",
              "        const buttonEl =\n",
              "          document.querySelector('#df-3068464a-f734-43ec-8a41-8bf2c7d3d5aa button.colab-df-convert');\n",
              "        buttonEl.style.display =\n",
              "          google.colab.kernel.accessAllowed ? 'block' : 'none';\n",
              "\n",
              "        async function convertToInteractive(key) {\n",
              "          const element = document.querySelector('#df-3068464a-f734-43ec-8a41-8bf2c7d3d5aa');\n",
              "          const dataTable =\n",
              "            await google.colab.kernel.invokeFunction('convertToInteractive',\n",
              "                                                     [key], {});\n",
              "          if (!dataTable) return;\n",
              "\n",
              "          const docLinkHtml = 'Like what you see? Visit the ' +\n",
              "            '<a target=\"_blank\" href=https://colab.research.google.com/notebooks/data_table.ipynb>data table notebook</a>'\n",
              "            + ' to learn more about interactive tables.';\n",
              "          element.innerHTML = '';\n",
              "          dataTable['output_type'] = 'display_data';\n",
              "          await google.colab.output.renderOutput(dataTable, element);\n",
              "          const docLink = document.createElement('div');\n",
              "          docLink.innerHTML = docLinkHtml;\n",
              "          element.appendChild(docLink);\n",
              "        }\n",
              "      </script>\n",
              "    </div>\n",
              "  </div>\n",
              "  "
            ]
          },
          "metadata": {},
          "execution_count": 8
        }
      ]
    },
    {
      "cell_type": "code",
      "source": [
        "data.isnull()"
      ],
      "metadata": {
        "colab": {
          "base_uri": "https://localhost:8080/",
          "height": 423
        },
        "id": "MQDmJQOhuWEC",
        "outputId": "061e02bd-bab6-4c1f-b9b9-260664d03397"
      },
      "execution_count": 9,
      "outputs": [
        {
          "output_type": "execute_result",
          "data": {
            "text/plain": [
              "       Date   Open   High    Low  Close  Adj Close  Volume\n",
              "0     False  False  False  False  False      False   False\n",
              "1     False  False  False  False  False      False   False\n",
              "2     False  False  False  False  False      False   False\n",
              "3     False  False  False  False  False      False   False\n",
              "4     False  False  False  False  False      False   False\n",
              "...     ...    ...    ...    ...    ...        ...     ...\n",
              "1823  False  False  False  False  False      False   False\n",
              "1824  False  False  False  False  False      False   False\n",
              "1825  False  False  False  False  False      False   False\n",
              "1826  False  False  False  False  False      False   False\n",
              "1827  False  False  False  False  False      False   False\n",
              "\n",
              "[1828 rows x 7 columns]"
            ],
            "text/html": [
              "\n",
              "  <div id=\"df-635a4dbc-0a08-43f8-a2fb-569ad1cb970b\">\n",
              "    <div class=\"colab-df-container\">\n",
              "      <div>\n",
              "<style scoped>\n",
              "    .dataframe tbody tr th:only-of-type {\n",
              "        vertical-align: middle;\n",
              "    }\n",
              "\n",
              "    .dataframe tbody tr th {\n",
              "        vertical-align: top;\n",
              "    }\n",
              "\n",
              "    .dataframe thead th {\n",
              "        text-align: right;\n",
              "    }\n",
              "</style>\n",
              "<table border=\"1\" class=\"dataframe\">\n",
              "  <thead>\n",
              "    <tr style=\"text-align: right;\">\n",
              "      <th></th>\n",
              "      <th>Date</th>\n",
              "      <th>Open</th>\n",
              "      <th>High</th>\n",
              "      <th>Low</th>\n",
              "      <th>Close</th>\n",
              "      <th>Adj Close</th>\n",
              "      <th>Volume</th>\n",
              "    </tr>\n",
              "  </thead>\n",
              "  <tbody>\n",
              "    <tr>\n",
              "      <th>0</th>\n",
              "      <td>False</td>\n",
              "      <td>False</td>\n",
              "      <td>False</td>\n",
              "      <td>False</td>\n",
              "      <td>False</td>\n",
              "      <td>False</td>\n",
              "      <td>False</td>\n",
              "    </tr>\n",
              "    <tr>\n",
              "      <th>1</th>\n",
              "      <td>False</td>\n",
              "      <td>False</td>\n",
              "      <td>False</td>\n",
              "      <td>False</td>\n",
              "      <td>False</td>\n",
              "      <td>False</td>\n",
              "      <td>False</td>\n",
              "    </tr>\n",
              "    <tr>\n",
              "      <th>2</th>\n",
              "      <td>False</td>\n",
              "      <td>False</td>\n",
              "      <td>False</td>\n",
              "      <td>False</td>\n",
              "      <td>False</td>\n",
              "      <td>False</td>\n",
              "      <td>False</td>\n",
              "    </tr>\n",
              "    <tr>\n",
              "      <th>3</th>\n",
              "      <td>False</td>\n",
              "      <td>False</td>\n",
              "      <td>False</td>\n",
              "      <td>False</td>\n",
              "      <td>False</td>\n",
              "      <td>False</td>\n",
              "      <td>False</td>\n",
              "    </tr>\n",
              "    <tr>\n",
              "      <th>4</th>\n",
              "      <td>False</td>\n",
              "      <td>False</td>\n",
              "      <td>False</td>\n",
              "      <td>False</td>\n",
              "      <td>False</td>\n",
              "      <td>False</td>\n",
              "      <td>False</td>\n",
              "    </tr>\n",
              "    <tr>\n",
              "      <th>...</th>\n",
              "      <td>...</td>\n",
              "      <td>...</td>\n",
              "      <td>...</td>\n",
              "      <td>...</td>\n",
              "      <td>...</td>\n",
              "      <td>...</td>\n",
              "      <td>...</td>\n",
              "    </tr>\n",
              "    <tr>\n",
              "      <th>1823</th>\n",
              "      <td>False</td>\n",
              "      <td>False</td>\n",
              "      <td>False</td>\n",
              "      <td>False</td>\n",
              "      <td>False</td>\n",
              "      <td>False</td>\n",
              "      <td>False</td>\n",
              "    </tr>\n",
              "    <tr>\n",
              "      <th>1824</th>\n",
              "      <td>False</td>\n",
              "      <td>False</td>\n",
              "      <td>False</td>\n",
              "      <td>False</td>\n",
              "      <td>False</td>\n",
              "      <td>False</td>\n",
              "      <td>False</td>\n",
              "    </tr>\n",
              "    <tr>\n",
              "      <th>1825</th>\n",
              "      <td>False</td>\n",
              "      <td>False</td>\n",
              "      <td>False</td>\n",
              "      <td>False</td>\n",
              "      <td>False</td>\n",
              "      <td>False</td>\n",
              "      <td>False</td>\n",
              "    </tr>\n",
              "    <tr>\n",
              "      <th>1826</th>\n",
              "      <td>False</td>\n",
              "      <td>False</td>\n",
              "      <td>False</td>\n",
              "      <td>False</td>\n",
              "      <td>False</td>\n",
              "      <td>False</td>\n",
              "      <td>False</td>\n",
              "    </tr>\n",
              "    <tr>\n",
              "      <th>1827</th>\n",
              "      <td>False</td>\n",
              "      <td>False</td>\n",
              "      <td>False</td>\n",
              "      <td>False</td>\n",
              "      <td>False</td>\n",
              "      <td>False</td>\n",
              "      <td>False</td>\n",
              "    </tr>\n",
              "  </tbody>\n",
              "</table>\n",
              "<p>1828 rows × 7 columns</p>\n",
              "</div>\n",
              "      <button class=\"colab-df-convert\" onclick=\"convertToInteractive('df-635a4dbc-0a08-43f8-a2fb-569ad1cb970b')\"\n",
              "              title=\"Convert this dataframe to an interactive table.\"\n",
              "              style=\"display:none;\">\n",
              "        \n",
              "  <svg xmlns=\"http://www.w3.org/2000/svg\" height=\"24px\"viewBox=\"0 0 24 24\"\n",
              "       width=\"24px\">\n",
              "    <path d=\"M0 0h24v24H0V0z\" fill=\"none\"/>\n",
              "    <path d=\"M18.56 5.44l.94 2.06.94-2.06 2.06-.94-2.06-.94-.94-2.06-.94 2.06-2.06.94zm-11 1L8.5 8.5l.94-2.06 2.06-.94-2.06-.94L8.5 2.5l-.94 2.06-2.06.94zm10 10l.94 2.06.94-2.06 2.06-.94-2.06-.94-.94-2.06-.94 2.06-2.06.94z\"/><path d=\"M17.41 7.96l-1.37-1.37c-.4-.4-.92-.59-1.43-.59-.52 0-1.04.2-1.43.59L10.3 9.45l-7.72 7.72c-.78.78-.78 2.05 0 2.83L4 21.41c.39.39.9.59 1.41.59.51 0 1.02-.2 1.41-.59l7.78-7.78 2.81-2.81c.8-.78.8-2.07 0-2.86zM5.41 20L4 18.59l7.72-7.72 1.47 1.35L5.41 20z\"/>\n",
              "  </svg>\n",
              "      </button>\n",
              "      \n",
              "  <style>\n",
              "    .colab-df-container {\n",
              "      display:flex;\n",
              "      flex-wrap:wrap;\n",
              "      gap: 12px;\n",
              "    }\n",
              "\n",
              "    .colab-df-convert {\n",
              "      background-color: #E8F0FE;\n",
              "      border: none;\n",
              "      border-radius: 50%;\n",
              "      cursor: pointer;\n",
              "      display: none;\n",
              "      fill: #1967D2;\n",
              "      height: 32px;\n",
              "      padding: 0 0 0 0;\n",
              "      width: 32px;\n",
              "    }\n",
              "\n",
              "    .colab-df-convert:hover {\n",
              "      background-color: #E2EBFA;\n",
              "      box-shadow: 0px 1px 2px rgba(60, 64, 67, 0.3), 0px 1px 3px 1px rgba(60, 64, 67, 0.15);\n",
              "      fill: #174EA6;\n",
              "    }\n",
              "\n",
              "    [theme=dark] .colab-df-convert {\n",
              "      background-color: #3B4455;\n",
              "      fill: #D2E3FC;\n",
              "    }\n",
              "\n",
              "    [theme=dark] .colab-df-convert:hover {\n",
              "      background-color: #434B5C;\n",
              "      box-shadow: 0px 1px 3px 1px rgba(0, 0, 0, 0.15);\n",
              "      filter: drop-shadow(0px 1px 2px rgba(0, 0, 0, 0.3));\n",
              "      fill: #FFFFFF;\n",
              "    }\n",
              "  </style>\n",
              "\n",
              "      <script>\n",
              "        const buttonEl =\n",
              "          document.querySelector('#df-635a4dbc-0a08-43f8-a2fb-569ad1cb970b button.colab-df-convert');\n",
              "        buttonEl.style.display =\n",
              "          google.colab.kernel.accessAllowed ? 'block' : 'none';\n",
              "\n",
              "        async function convertToInteractive(key) {\n",
              "          const element = document.querySelector('#df-635a4dbc-0a08-43f8-a2fb-569ad1cb970b');\n",
              "          const dataTable =\n",
              "            await google.colab.kernel.invokeFunction('convertToInteractive',\n",
              "                                                     [key], {});\n",
              "          if (!dataTable) return;\n",
              "\n",
              "          const docLinkHtml = 'Like what you see? Visit the ' +\n",
              "            '<a target=\"_blank\" href=https://colab.research.google.com/notebooks/data_table.ipynb>data table notebook</a>'\n",
              "            + ' to learn more about interactive tables.';\n",
              "          element.innerHTML = '';\n",
              "          dataTable['output_type'] = 'display_data';\n",
              "          await google.colab.output.renderOutput(dataTable, element);\n",
              "          const docLink = document.createElement('div');\n",
              "          docLink.innerHTML = docLinkHtml;\n",
              "          element.appendChild(docLink);\n",
              "        }\n",
              "      </script>\n",
              "    </div>\n",
              "  </div>\n",
              "  "
            ]
          },
          "metadata": {},
          "execution_count": 9
        }
      ]
    },
    {
      "cell_type": "code",
      "source": [
        "data.isnull().sum()"
      ],
      "metadata": {
        "colab": {
          "base_uri": "https://localhost:8080/"
        },
        "id": "Si5DMD3tuZdq",
        "outputId": "96c525e5-88a5-4379-d4fa-cf419f589367"
      },
      "execution_count": 10,
      "outputs": [
        {
          "output_type": "execute_result",
          "data": {
            "text/plain": [
              "Date         0\n",
              "Open         3\n",
              "High         3\n",
              "Low          3\n",
              "Close        3\n",
              "Adj Close    3\n",
              "Volume       3\n",
              "dtype: int64"
            ]
          },
          "metadata": {},
          "execution_count": 10
        }
      ]
    },
    {
      "cell_type": "code",
      "source": [
        "data.isnull().sum().sum()"
      ],
      "metadata": {
        "colab": {
          "base_uri": "https://localhost:8080/"
        },
        "id": "qmxUgEyVRYur",
        "outputId": "d3efbbb6-22a8-4838-fadd-54596c88a1a7"
      },
      "execution_count": 11,
      "outputs": [
        {
          "output_type": "execute_result",
          "data": {
            "text/plain": [
              "18"
            ]
          },
          "metadata": {},
          "execution_count": 11
        }
      ]
    },
    {
      "cell_type": "code",
      "source": [
        "# Haftaya bakarak boş olan verileri lineer olarak dolduruyoruz\n",
        "data.interpolate(method='linear',inplace=True)"
      ],
      "metadata": {
        "id": "TIP7S8Y6SXQL"
      },
      "execution_count": 16,
      "outputs": []
    },
    {
      "cell_type": "code",
      "source": [
        "data.isnull().sum()"
      ],
      "metadata": {
        "colab": {
          "base_uri": "https://localhost:8080/"
        },
        "id": "WE5C2TrySuhq",
        "outputId": "0a9e5df1-d4d3-40d9-c24b-ff9c0e0b9a5b"
      },
      "execution_count": 18,
      "outputs": [
        {
          "output_type": "execute_result",
          "data": {
            "text/plain": [
              "Date         0\n",
              "Open         0\n",
              "High         0\n",
              "Low          0\n",
              "Close        0\n",
              "Adj Close    0\n",
              "Volume       0\n",
              "dtype: int64"
            ]
          },
          "metadata": {},
          "execution_count": 18
        }
      ]
    },
    {
      "cell_type": "code",
      "source": [
        "data.isnull().sum().sum()"
      ],
      "metadata": {
        "colab": {
          "base_uri": "https://localhost:8080/"
        },
        "id": "1h4UlqdkTMTP",
        "outputId": "e646135e-c0c7-491b-d325-f42d7891882c"
      },
      "execution_count": 19,
      "outputs": [
        {
          "output_type": "execute_result",
          "data": {
            "text/plain": [
              "0"
            ]
          },
          "metadata": {},
          "execution_count": 19
        }
      ]
    },
    {
      "cell_type": "code",
      "source": [
        "start_date=data.iloc[0][0]\n",
        "end_date=data.iloc[-1][0]\n",
        "\n",
        "print('Start_Date',start_date)\n",
        "print('Finish_Date',end_date)"
      ],
      "metadata": {
        "colab": {
          "base_uri": "https://localhost:8080/"
        },
        "id": "jf-zJLsWucuR",
        "outputId": "1f26e706-739c-4c31-9358-4248568f4242"
      },
      "execution_count": 20,
      "outputs": [
        {
          "output_type": "stream",
          "name": "stdout",
          "text": [
            "Start_Date 2015-06-01\n",
            "Finish_Date 2022-06-01\n"
          ]
        }
      ]
    },
    {
      "cell_type": "code",
      "source": [
        "data['Date'] = pd.to_datetime(data['Date'], format='%Y-%m-%d')\n"
      ],
      "metadata": {
        "id": "-iYPsj_vu00F"
      },
      "execution_count": 21,
      "outputs": []
    },
    {
      "cell_type": "code",
      "source": [
        "data.index=data.Date"
      ],
      "metadata": {
        "id": "vOb3IbUNu-xz"
      },
      "execution_count": 22,
      "outputs": []
    },
    {
      "cell_type": "code",
      "source": [
        "fig = plt.figure(figsize=(15,8))\n",
        "data.Open.plot(label='Dollar (USD) Open Price ')\n",
        "plt.legend(loc='best')\n",
        "plt.title('Daily Exchange Rates, Open', fontsize=14)\n",
        "plt.grid(color = 'green', linestyle = '--', linewidth = 0.4)\n",
        "plt.show()"
      ],
      "metadata": {
        "colab": {
          "base_uri": "https://localhost:8080/",
          "height": 514
        },
        "id": "GZfHOsgmu_JK",
        "outputId": "a0fb9811-5639-45d4-b40e-1057524a4263"
      },
      "execution_count": 26,
      "outputs": [
        {
          "output_type": "display_data",
          "data": {
            "text/plain": [
              "<Figure size 1080x576 with 1 Axes>"
            ],
            "image/png": "[encoded data removed]"
          },
          "metadata": {
            "needs_background": "light"
          }
        }
      ]
    },
    {
      "cell_type": "code",
      "source": [
        "fig = plt.figure(figsize=(15,8))\n",
        "data.Close.plot(label='Dollar (USD) Close Price ')\n",
        "plt.legend(loc='best')\n",
        "plt.title('Daily Exchange Rates, Close', fontsize=14)\n",
        "plt.grid(color = 'red', linestyle = '--', linewidth = 0.9)\n",
        "plt.show()"
      ],
      "metadata": {
        "colab": {
          "base_uri": "https://localhost:8080/",
          "height": 514
        },
        "id": "AYnT_RzkvErJ",
        "outputId": "8677fba3-9e48-4108-eb3a-c8851a273635"
      },
      "execution_count": 27,
      "outputs": [
        {
          "output_type": "display_data",
          "data": {
            "text/plain": [
              "<Figure size 1080x576 with 1 Axes>"
            ],
            "image/png": "[encoded data removed]"
          },
          "metadata": {
            "needs_background": "light"
          }
        }
      ]
    },
    {
      "cell_type": "code",
      "source": [
        "values = data['Open'].values.reshape(-1,1)\n",
        "values = values.astype('float32')\n",
        "scaler = MinMaxScaler(feature_range=(0, 1))\n",
        "dataset = scaler.fit_transform(values)\n",
        "\n",
        "#verilerimizi 0-1 arasında ölçeklendirme yaptık"
      ],
      "metadata": {
        "id": "8MHPvzDovHSL"
      },
      "execution_count": 28,
      "outputs": []
    },
    {
      "cell_type": "code",
      "source": [
        "dataset[0:5]\n",
        "#ölçeklendirme yapmış olduğumuz verileri kontrol ediyoruz"
      ],
      "metadata": {
        "colab": {
          "base_uri": "https://localhost:8080/"
        },
        "id": "jZIY2EdRvaeV",
        "outputId": "699b332d-6d28-4713-9b0a-77c88ba0a10d"
      },
      "execution_count": 29,
      "outputs": [
        {
          "output_type": "execute_result",
          "data": {
            "text/plain": [
              "array([[0.00203118],\n",
              "       [0.00354919],\n",
              "       [0.00297663],\n",
              "       [0.00381471],\n",
              "       [0.00267316]], dtype=float32)"
            ]
          },
          "metadata": {},
          "execution_count": 29
        }
      ]
    },
    {
      "cell_type": "code",
      "source": [
        "train_size_rate=0.70 #eğitim için elimizde olan verilerin %70 ını kullanacağız"
      ],
      "metadata": {
        "id": "TbA8Q_Uqvl0Z"
      },
      "execution_count": 30,
      "outputs": []
    },
    {
      "cell_type": "code",
      "source": [
        "train_size=int(len(dataset)*train_size_rate)"
      ],
      "metadata": {
        "id": "F8rXWOi7wmZn"
      },
      "execution_count": 31,
      "outputs": []
    },
    {
      "cell_type": "code",
      "source": [
        "test_size=len(dataset)-train_size\n",
        "# toplam veriden eğitim verilerini çıkartıtğımızada geriye kalan %30 lık kısmı test için kullanacağız"
      ],
      "metadata": {
        "id": "nKqWtUeUwock"
      },
      "execution_count": 32,
      "outputs": []
    },
    {
      "cell_type": "code",
      "source": [
        "train, test = dataset[0:train_size, :], dataset[train_size:len(dataset), :]\n"
      ],
      "metadata": {
        "id": "B0XyxGFQwqRf"
      },
      "execution_count": 33,
      "outputs": []
    },
    {
      "cell_type": "code",
      "source": [
        "print(\"Veri(Gün Sayısı) Sayıları (training set, test set): \" + str((len(train), len(test))))\n"
      ],
      "metadata": {
        "colab": {
          "base_uri": "https://localhost:8080/"
        },
        "id": "gtKmq2YBws_7",
        "outputId": "ff4db7a3-0d1a-45f8-cf69-25c0e0ce598b"
      },
      "execution_count": 34,
      "outputs": [
        {
          "output_type": "stream",
          "name": "stdout",
          "text": [
            "Veri(Gün Sayısı) Sayıları (training set, test set): (1279, 549)\n"
          ]
        }
      ]
    },
    {
      "cell_type": "code",
      "source": [
        "#verisetini adım,adım okutup daha anlaşılır hale getirmek istiyoruz.\n",
        "#Asıl amaç son güne bakıp diğer günü tahmin edebilmek\n",
        "def create_dataset(dataset, window_size = 1):\n",
        "    data_X, data_Y = [], []\n",
        "    for i in range(len(dataset) - window_size - 1):\n",
        "        a = dataset[i:(i + window_size), 0]\n",
        "        data_X.append(a)\n",
        "        data_Y.append(dataset[i + window_size, 0])\n",
        "    return(np.array(data_X), np.array(data_Y))"
      ],
      "metadata": {
        "id": "YSvc8dhgw8z0"
      },
      "execution_count": 35,
      "outputs": []
    },
    {
      "cell_type": "code",
      "source": [
        "# Verisetlerimizi Oluşturalım\n",
        "window_size = 1\n",
        "train_X, train_Y = create_dataset(train, window_size)\n",
        "test_X, test_Y = create_dataset(test, window_size)\n",
        "print(\"Original training data shape:\")\n",
        "print(train_X.shape)"
      ],
      "metadata": {
        "colab": {
          "base_uri": "https://localhost:8080/"
        },
        "id": "m-CkrVpGw_ei",
        "outputId": "05a3b77b-0c9a-45bd-f213-ba45c97ed793"
      },
      "execution_count": 36,
      "outputs": [
        {
          "output_type": "stream",
          "name": "stdout",
          "text": [
            "Original training data shape:\n",
            "(1277, 1)\n"
          ]
        }
      ]
    },
    {
      "cell_type": "code",
      "source": [
        "# Yeni verisetinin şekline bakalım.\n",
        "train_X = np.reshape(train_X, (train_X.shape[0], 1, train_X.shape[1]))\n",
        "test_X = np.reshape(test_X, (test_X.shape[0], 1, test_X.shape[1]))\n",
        "print(\"New training data shape:\")\n",
        "print(train_X.shape)\n",
        "#bu şekilde üç kanal olmasının sebebi model eğitiminde kullanacağımız LSTM yapısından kaynaklanıyor"
      ],
      "metadata": {
        "colab": {
          "base_uri": "https://localhost:8080/"
        },
        "id": "FHiLMLTaxBQr",
        "outputId": "f7596b3f-e21d-4b1c-bb3e-f2538d2f64e9"
      },
      "execution_count": 37,
      "outputs": [
        {
          "output_type": "stream",
          "name": "stdout",
          "text": [
            "New training data shape:\n",
            "(1277, 1, 1)\n"
          ]
        }
      ]
    },
    {
      "cell_type": "code",
      "source": [
        "from sklearn.metrics import mean_squared_error\n",
        "from keras.models import Sequential\n",
        "from keras.layers import Dense, Dropout, Activation\n",
        "from keras.layers.recurrent import LSTM"
      ],
      "metadata": {
        "id": "BqYFT5KFxR99"
      },
      "execution_count": 38,
      "outputs": []
    },
    {
      "cell_type": "code",
      "source": [
        "def fit_model(train_X, train_Y, window_size = 1):\n",
        "    model = Sequential()\n",
        "    model.add(LSTM(100,input_shape = (1, window_size)))\n",
        "    model.add(Dropout(0.2))\n",
        "    model.add(Dense(1))\n",
        "    model.compile(loss = \"mean_squared_error\",optimizer = \"adam\")\n",
        "   #30 epoch yani 30 kere verisetine bakılacak.\n",
        "    model.fit(train_X, \n",
        "              train_Y, \n",
        "              epochs = 30, \n",
        "              batch_size = 1, \n",
        "              verbose = 1)\n",
        "    \n",
        "    return(model)"
      ],
      "metadata": {
        "id": "WRaWXujcxEDo"
      },
      "execution_count": 39,
      "outputs": []
    },
    {
      "cell_type": "code",
      "source": [
        "# Fit  model.\n",
        "model1 = fit_model(train_X, train_Y, window_size)"
      ],
      "metadata": {
        "colab": {
          "base_uri": "https://localhost:8080/"
        },
        "id": "J7vWpKFR02i7",
        "outputId": "0282c31c-c60a-434d-ef6e-062ec9bda54f"
      },
      "execution_count": 40,
      "outputs": [
        {
          "output_type": "stream",
          "name": "stdout",
          "text": [
            "Epoch 1/30\n",
            "1277/1277 [==============================] - 6s 4ms/step - loss: 0.0014\n",
            "Epoch 2/30\n",
            "1277/1277 [==============================] - 5s 4ms/step - loss: 9.5670e-05\n",
            "Epoch 3/30\n",
            "1277/1277 [==============================] - 10s 8ms/step - loss: 9.1494e-05\n",
            "Epoch 4/30\n",
            "1277/1277 [==============================] - 10s 8ms/step - loss: 8.1402e-05\n",
            "Epoch 5/30\n",
            "1277/1277 [==============================] - 8s 6ms/step - loss: 7.6306e-05\n",
            "Epoch 6/30\n",
            "1277/1277 [==============================] - 6s 4ms/step - loss: 7.6441e-05\n",
            "Epoch 7/30\n",
            "1277/1277 [==============================] - 4s 3ms/step - loss: 7.2317e-05\n",
            "Epoch 8/30\n",
            "1277/1277 [==============================] - 4s 3ms/step - loss: 6.6228e-05\n",
            "Epoch 9/30\n",
            "1277/1277 [==============================] - 4s 3ms/step - loss: 6.6382e-05\n",
            "Epoch 10/30\n",
            "1277/1277 [==============================] - 4s 3ms/step - loss: 5.8177e-05\n",
            "Epoch 11/30\n",
            "1277/1277 [==============================] - 4s 3ms/step - loss: 5.8499e-05\n",
            "Epoch 12/30\n",
            "1277/1277 [==============================] - 4s 3ms/step - loss: 5.9416e-05\n",
            "Epoch 13/30\n",
            "1277/1277 [==============================] - 4s 3ms/step - loss: 6.3712e-05\n",
            "Epoch 14/30\n",
            "1277/1277 [==============================] - 4s 3ms/step - loss: 5.8436e-05\n",
            "Epoch 15/30\n",
            "1277/1277 [==============================] - 4s 3ms/step - loss: 6.3135e-05\n",
            "Epoch 16/30\n",
            "1277/1277 [==============================] - 4s 3ms/step - loss: 6.1050e-05\n",
            "Epoch 17/30\n",
            "1277/1277 [==============================] - 4s 3ms/step - loss: 6.2849e-05\n",
            "Epoch 18/30\n",
            "1277/1277 [==============================] - 4s 3ms/step - loss: 5.7482e-05\n",
            "Epoch 19/30\n",
            "1277/1277 [==============================] - 4s 3ms/step - loss: 6.0892e-05\n",
            "Epoch 20/30\n",
            "1277/1277 [==============================] - 4s 3ms/step - loss: 6.0125e-05\n",
            "Epoch 21/30\n",
            "1277/1277 [==============================] - 4s 3ms/step - loss: 5.4980e-05\n",
            "Epoch 22/30\n",
            "1277/1277 [==============================] - 4s 3ms/step - loss: 6.0871e-05\n",
            "Epoch 23/30\n",
            "1277/1277 [==============================] - 4s 3ms/step - loss: 5.7036e-05\n",
            "Epoch 24/30\n",
            "1277/1277 [==============================] - 4s 3ms/step - loss: 5.8405e-05\n",
            "Epoch 25/30\n",
            "1277/1277 [==============================] - 4s 3ms/step - loss: 5.0907e-05\n",
            "Epoch 26/30\n",
            "1277/1277 [==============================] - 4s 3ms/step - loss: 6.1308e-05\n",
            "Epoch 27/30\n",
            "1277/1277 [==============================] - 4s 3ms/step - loss: 5.3822e-05\n",
            "Epoch 28/30\n",
            "1277/1277 [==============================] - 4s 3ms/step - loss: 5.3715e-05\n",
            "Epoch 29/30\n",
            "1277/1277 [==============================] - 4s 3ms/step - loss: 5.5060e-05\n",
            "Epoch 30/30\n",
            "1277/1277 [==============================] - 4s 3ms/step - loss: 6.0550e-05\n"
          ]
        }
      ]
    },
    {
      "cell_type": "code",
      "source": [
        "model1.summary()"
      ],
      "metadata": {
        "colab": {
          "base_uri": "https://localhost:8080/"
        },
        "id": "aktQMd3qVGvJ",
        "outputId": "b9401de7-a581-4116-b590-92a455fedf27"
      },
      "execution_count": 41,
      "outputs": [
        {
          "output_type": "stream",
          "name": "stdout",
          "text": [
            "Model: \"sequential\"\n",
            "_________________________________________________________________\n",
            " Layer (type)                Output Shape              Param #   \n",
            "=================================================================\n",
            " lstm (LSTM)                 (None, 100)               40800     \n",
            "                                                                 \n",
            " dropout (Dropout)           (None, 100)               0         \n",
            "                                                                 \n",
            " dense (Dense)               (None, 1)                 101       \n",
            "                                                                 \n",
            "=================================================================\n",
            "Total params: 40,901\n",
            "Trainable params: 40,901\n",
            "Non-trainable params: 0\n",
            "_________________________________________________________________\n"
          ]
        }
      ]
    },
    {
      "cell_type": "code",
      "source": [
        "import math\n",
        "def predict_and_score(model, X, Y):\n",
        "    # Şimdi tahminleri 0-1 ile scale edilmiş halinden geri çeviriyoruz.\n",
        "    pred = scaler.inverse_transform(model.predict(X))\n",
        "    orig_data = scaler.inverse_transform([Y])\n",
        "    # Rmse değerlerini ölçüyoruz.\n",
        "    score = math.sqrt(mean_squared_error(orig_data[0], pred[:, 0]))\n",
        "    return(score, pred)\n"
      ],
      "metadata": {
        "id": "J2Ogo_g01EoD"
      },
      "execution_count": 42,
      "outputs": []
    },
    {
      "cell_type": "code",
      "source": [
        "rmse_train, train_predict = predict_and_score(model1, train_X, train_Y)\n",
        "\n",
        "rmse_test, test_predict = predict_and_score(model1, test_X, test_Y)\n",
        "\n",
        "print(\"Training data score: %.2f RMSE\" % rmse_train)\n",
        "print(\"Test data score: %.2f RMSE\" % rmse_test)"
      ],
      "metadata": {
        "colab": {
          "base_uri": "https://localhost:8080/"
        },
        "id": "kyHRLoeL1HAS",
        "outputId": "50c9a5c1-f26e-4c4f-d4a1-31838e572916"
      },
      "execution_count": 43,
      "outputs": [
        {
          "output_type": "stream",
          "name": "stdout",
          "text": [
            "Training data score: 0.07 RMSE\n",
            "Test data score: 0.31 RMSE\n"
          ]
        }
      ]
    },
    {
      "cell_type": "code",
      "source": [
        "# Öğrendiklerinini tahminletip ekliyoruz.\n",
        "train_predict_plot = np.empty_like(dataset)\n",
        "train_predict_plot[:, :] = np.nan\n",
        "train_predict_plot[window_size:len(train_predict) + window_size, :] = train_predict"
      ],
      "metadata": {
        "id": "oLjc3Yfk2U6D"
      },
      "execution_count": 44,
      "outputs": []
    },
    {
      "cell_type": "code",
      "source": [
        "# Şimdi ise testleri tahminletiyoruz.\n",
        "test_predict_plot = np.empty_like(dataset)\n",
        "test_predict_plot[:, :] = np.nan\n",
        "test_predict_plot[len(train_predict) + (window_size * 2) + 1:len(dataset) - 1, :] = test_predict"
      ],
      "metadata": {
        "id": "PXs766Rq2VhX"
      },
      "execution_count": 45,
      "outputs": []
    },
    {
      "cell_type": "code",
      "source": [
        "from matplotlib import style\n",
        "  \n",
        "print(plt.style.available)"
      ],
      "metadata": {
        "colab": {
          "base_uri": "https://localhost:8080/"
        },
        "id": "CcWJHP_sYSLP",
        "outputId": "e9661605-febf-405b-f9e4-14436797f4ea"
      },
      "execution_count": 74,
      "outputs": [
        {
          "output_type": "stream",
          "name": "stdout",
          "text": [
            "['Solarize_Light2', '_classic_test_patch', 'bmh', 'classic', 'dark_background', 'fast', 'fivethirtyeight', 'ggplot', 'grayscale', 'seaborn', 'seaborn-bright', 'seaborn-colorblind', 'seaborn-dark', 'seaborn-dark-palette', 'seaborn-darkgrid', 'seaborn-deep', 'seaborn-muted', 'seaborn-notebook', 'seaborn-paper', 'seaborn-pastel', 'seaborn-poster', 'seaborn-talk', 'seaborn-ticks', 'seaborn-white', 'seaborn-whitegrid', 'tableau-colorblind10']\n"
          ]
        }
      ]
    },
    {
      "cell_type": "code",
      "source": [
        "\n",
        "import seaborn as sns\n",
        "import matplotlib.pyplot as plt\n",
        "\n",
        "\n"
      ],
      "metadata": {
        "id": "M_E9Vhq-WLpv"
      },
      "execution_count": 80,
      "outputs": []
    },
    {
      "cell_type": "code",
      "source": [
        "\n",
        "# Plot'u oluşturalım.\n",
        "plt.figure(dpi=130)\n",
        "plt.plot(scaler.inverse_transform(dataset), label = \"True value\")\n",
        "plt.plot(train_predict_plot, label = \"Training set prediction\")\n",
        "plt.plot(test_predict_plot, label = \"Test set prediction\")\n",
        "plt.xlabel(\"Days\",fontsize=12)\n",
        "plt.ylabel(\"USD Price\",fontsize=12)\n",
        "plt.title(\"Comparison true vs. predicted training / test\")\n",
        "plt.legend(prop={\"size\":12})\n",
        "plt.show()"
      ],
      "metadata": {
        "colab": {
          "base_uri": "https://localhost:8080/",
          "height": 517
        },
        "id": "nkBIso7GZ-ZY",
        "outputId": "838ea96b-0393-4090-ee86-cb691e752c60"
      },
      "execution_count": 95,
      "outputs": [
        {
          "output_type": "display_data",
          "data": {
            "text/plain": [
              "<Figure size 780x520 with 1 Axes>"
            ],
            "image/png": "[encoded data removed]"
          },
          "metadata": {}
        }
      ]
    },
    {
      "cell_type": "code",
      "source": [
        ""
      ],
      "metadata": {
        "id": "UQxnzkSlaK_m"
      },
      "execution_count": null,
      "outputs": []
    }
  ]
}